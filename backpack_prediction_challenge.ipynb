{
 "cells": [
  {
   "cell_type": "code",
   "id": "initial_id",
   "metadata": {
    "collapsed": true,
    "ExecuteTime": {
     "end_time": "2025-02-08T13:43:44.685964Z",
     "start_time": "2025-02-08T13:43:44.640068Z"
    }
   },
   "source": [
    "import pandas as pd\n",
    "import numpy as np\n",
    "import matplotlib.pyplot as plt\n",
    "import seaborn as sns\n",
    "sns.set_style(\"whitegrid\")"
   ],
   "outputs": [],
   "execution_count": 199
  },
  {
   "metadata": {
    "ExecuteTime": {
     "end_time": "2025-02-08T13:43:54.709561Z",
     "start_time": "2025-02-08T13:43:45.157430Z"
    }
   },
   "cell_type": "code",
   "source": [
    "train_backpack = pd.read_csv('./data/train.csv')\n",
    "extra_backpack = pd.read_csv('./data/training_extra.csv')\n",
    "test_backpack = pd.read_csv('./data/test.csv')"
   ],
   "id": "b0e3f1babfd25a43",
   "outputs": [],
   "execution_count": 200
  },
  {
   "metadata": {
    "ExecuteTime": {
     "end_time": "2025-02-08T13:43:58.717099Z",
     "start_time": "2025-02-08T13:43:54.715574Z"
    }
   },
   "cell_type": "code",
   "source": [
    "backpack = pd.concat([train_backpack, extra_backpack])\n",
    "backpack.drop('id', axis=1, inplace=True)\n",
    "test_backpack.drop('id', axis=1, inplace=True)"
   ],
   "id": "684362dd5ae619fc",
   "outputs": [],
   "execution_count": 201
  },
  {
   "metadata": {
    "ExecuteTime": {
     "end_time": "2025-02-08T13:43:59.454393Z",
     "start_time": "2025-02-08T13:43:59.240503Z"
    }
   },
   "cell_type": "code",
   "source": [
    "backpack.columns = backpack.columns.str.replace(\" \", \"_\")\n",
    "test_backpack.columns = test_backpack.columns.str.replace(\" \", \"_\")"
   ],
   "id": "3bf8b5aedae17d64",
   "outputs": [],
   "execution_count": 203
  },
  {
   "metadata": {
    "ExecuteTime": {
     "end_time": "2025-02-08T13:43:59.567384Z",
     "start_time": "2025-02-08T13:43:59.501187Z"
    }
   },
   "cell_type": "code",
   "source": "backpack.head()",
   "id": "6879a80c373c9bbc",
   "outputs": [
    {
     "data": {
      "text/plain": [
       "          Brand Material    Size  Compartments Laptop_Compartment Waterproof  \\\n",
       "0      Jansport  Leather  Medium           7.0                Yes         No   \n",
       "1      Jansport   Canvas   Small          10.0                Yes        Yes   \n",
       "2  Under Armour  Leather   Small           2.0                Yes         No   \n",
       "3          Nike    Nylon   Small           8.0                Yes         No   \n",
       "4        Adidas   Canvas  Medium           1.0                Yes        Yes   \n",
       "\n",
       "       Style  Color  Weight_Capacity_(kg)      Price  \n",
       "0       Tote  Black             11.611723  112.15875  \n",
       "1  Messenger  Green             27.078537   68.88056  \n",
       "2  Messenger    Red             16.643760   39.17320  \n",
       "3  Messenger  Green             12.937220   80.60793  \n",
       "4  Messenger  Green             17.749338   86.02312  "
      ],
      "text/html": [
       "<div>\n",
       "<style scoped>\n",
       "    .dataframe tbody tr th:only-of-type {\n",
       "        vertical-align: middle;\n",
       "    }\n",
       "\n",
       "    .dataframe tbody tr th {\n",
       "        vertical-align: top;\n",
       "    }\n",
       "\n",
       "    .dataframe thead th {\n",
       "        text-align: right;\n",
       "    }\n",
       "</style>\n",
       "<table border=\"1\" class=\"dataframe\">\n",
       "  <thead>\n",
       "    <tr style=\"text-align: right;\">\n",
       "      <th></th>\n",
       "      <th>Brand</th>\n",
       "      <th>Material</th>\n",
       "      <th>Size</th>\n",
       "      <th>Compartments</th>\n",
       "      <th>Laptop_Compartment</th>\n",
       "      <th>Waterproof</th>\n",
       "      <th>Style</th>\n",
       "      <th>Color</th>\n",
       "      <th>Weight_Capacity_(kg)</th>\n",
       "      <th>Price</th>\n",
       "    </tr>\n",
       "  </thead>\n",
       "  <tbody>\n",
       "    <tr>\n",
       "      <th>0</th>\n",
       "      <td>Jansport</td>\n",
       "      <td>Leather</td>\n",
       "      <td>Medium</td>\n",
       "      <td>7.0</td>\n",
       "      <td>Yes</td>\n",
       "      <td>No</td>\n",
       "      <td>Tote</td>\n",
       "      <td>Black</td>\n",
       "      <td>11.611723</td>\n",
       "      <td>112.15875</td>\n",
       "    </tr>\n",
       "    <tr>\n",
       "      <th>1</th>\n",
       "      <td>Jansport</td>\n",
       "      <td>Canvas</td>\n",
       "      <td>Small</td>\n",
       "      <td>10.0</td>\n",
       "      <td>Yes</td>\n",
       "      <td>Yes</td>\n",
       "      <td>Messenger</td>\n",
       "      <td>Green</td>\n",
       "      <td>27.078537</td>\n",
       "      <td>68.88056</td>\n",
       "    </tr>\n",
       "    <tr>\n",
       "      <th>2</th>\n",
       "      <td>Under Armour</td>\n",
       "      <td>Leather</td>\n",
       "      <td>Small</td>\n",
       "      <td>2.0</td>\n",
       "      <td>Yes</td>\n",
       "      <td>No</td>\n",
       "      <td>Messenger</td>\n",
       "      <td>Red</td>\n",
       "      <td>16.643760</td>\n",
       "      <td>39.17320</td>\n",
       "    </tr>\n",
       "    <tr>\n",
       "      <th>3</th>\n",
       "      <td>Nike</td>\n",
       "      <td>Nylon</td>\n",
       "      <td>Small</td>\n",
       "      <td>8.0</td>\n",
       "      <td>Yes</td>\n",
       "      <td>No</td>\n",
       "      <td>Messenger</td>\n",
       "      <td>Green</td>\n",
       "      <td>12.937220</td>\n",
       "      <td>80.60793</td>\n",
       "    </tr>\n",
       "    <tr>\n",
       "      <th>4</th>\n",
       "      <td>Adidas</td>\n",
       "      <td>Canvas</td>\n",
       "      <td>Medium</td>\n",
       "      <td>1.0</td>\n",
       "      <td>Yes</td>\n",
       "      <td>Yes</td>\n",
       "      <td>Messenger</td>\n",
       "      <td>Green</td>\n",
       "      <td>17.749338</td>\n",
       "      <td>86.02312</td>\n",
       "    </tr>\n",
       "  </tbody>\n",
       "</table>\n",
       "</div>"
      ]
     },
     "execution_count": 204,
     "metadata": {},
     "output_type": "execute_result"
    }
   ],
   "execution_count": 204
  },
  {
   "metadata": {},
   "cell_type": "markdown",
   "source": "# Treating Missing Value",
   "id": "ec0224726b36d333"
  },
  {
   "metadata": {
    "ExecuteTime": {
     "end_time": "2025-02-08T13:44:00.148697Z",
     "start_time": "2025-02-08T13:43:59.569908Z"
    }
   },
   "cell_type": "code",
   "source": "backpack.info()",
   "id": "8554db8c87e326fe",
   "outputs": [
    {
     "name": "stdout",
     "output_type": "stream",
     "text": [
      "<class 'pandas.core.frame.DataFrame'>\n",
      "Index: 3994318 entries, 0 to 3694317\n",
      "Data columns (total 10 columns):\n",
      " #   Column                Dtype  \n",
      "---  ------                -----  \n",
      " 0   Brand                 object \n",
      " 1   Material              object \n",
      " 2   Size                  object \n",
      " 3   Compartments          float64\n",
      " 4   Laptop_Compartment    object \n",
      " 5   Waterproof            object \n",
      " 6   Style                 object \n",
      " 7   Color                 object \n",
      " 8   Weight_Capacity_(kg)  float64\n",
      " 9   Price                 float64\n",
      "dtypes: float64(3), object(7)\n",
      "memory usage: 335.2+ MB\n"
     ]
    }
   ],
   "execution_count": 205
  },
  {
   "metadata": {},
   "cell_type": "markdown",
   "source": "## Delete Rows with 3 Nan value and More",
   "id": "310eafbf64a993c"
  },
  {
   "metadata": {
    "ExecuteTime": {
     "end_time": "2025-02-08T13:44:02.319632Z",
     "start_time": "2025-02-08T13:44:00.154713Z"
    }
   },
   "cell_type": "code",
   "source": [
    "threshold = 3\n",
    "mask = backpack.isna().sum(axis=1) >= threshold\n",
    "filtered_backpack = backpack[mask]"
   ],
   "id": "169139240bfcf29c",
   "outputs": [],
   "execution_count": 206
  },
  {
   "metadata": {
    "ExecuteTime": {
     "end_time": "2025-02-08T13:44:04.688897Z",
     "start_time": "2025-02-08T13:44:02.324645Z"
    }
   },
   "cell_type": "code",
   "source": "clean_backpack1 = backpack[~mask]",
   "id": "8bbe471bd87a3470",
   "outputs": [],
   "execution_count": 207
  },
  {
   "metadata": {},
   "cell_type": "markdown",
   "source": "## Remove Missing Value for Nominal Categories",
   "id": "13d19a6eabbee4b7"
  },
  {
   "metadata": {
    "ExecuteTime": {
     "end_time": "2025-02-08T13:44:07.401781Z",
     "start_time": "2025-02-08T13:44:04.690910Z"
    }
   },
   "cell_type": "code",
   "source": [
    "nominal_col = ['Brand', 'Material', 'Style', 'Color']\n",
    "clean_backpack2 = clean_backpack1.dropna(subset=nominal_col)"
   ],
   "id": "532cae77c21ecd60",
   "outputs": [],
   "execution_count": 208
  },
  {
   "metadata": {
    "ExecuteTime": {
     "end_time": "2025-02-08T13:44:08.435239Z",
     "start_time": "2025-02-08T13:44:07.404797Z"
    }
   },
   "cell_type": "code",
   "source": "clean_backpack2.isna().sum()",
   "id": "b0fe29e375bc5f44",
   "outputs": [
    {
     "data": {
      "text/plain": [
       "Brand                       0\n",
       "Material                    0\n",
       "Size                    80598\n",
       "Compartments                0\n",
       "Laptop_Compartment      88337\n",
       "Waterproof              87073\n",
       "Style                       0\n",
       "Color                       0\n",
       "Weight_Capacity_(kg)      387\n",
       "Price                       0\n",
       "dtype: int64"
      ]
     },
     "execution_count": 209,
     "metadata": {},
     "output_type": "execute_result"
    }
   ],
   "execution_count": 209
  },
  {
   "metadata": {},
   "cell_type": "markdown",
   "source": "## Missing Value Imputation",
   "id": "4f2fb2267806ee04"
  },
  {
   "metadata": {
    "ExecuteTime": {
     "end_time": "2025-02-08T13:44:08.458155Z",
     "start_time": "2025-02-08T13:44:08.437254Z"
    }
   },
   "cell_type": "code",
   "source": [
    "def get_labels_dict(data, col):\n",
    "    labels = data[col].sort_values(ascending=False).unique().tolist()\n",
    "    label_dic = {k:i for i, k in enumerate(labels)}\n",
    "    if np.nan in label_dic.keys():\n",
    "        label_dic[np.nan] = np.nan\n",
    "    return label_dic"
   ],
   "id": "b27d4deade22c8f",
   "outputs": [],
   "execution_count": 210
  },
  {
   "metadata": {
    "ExecuteTime": {
     "end_time": "2025-02-08T13:44:08.475211Z",
     "start_time": "2025-02-08T13:44:08.462168Z"
    }
   },
   "cell_type": "code",
   "source": [
    "def reverse_dic(dic):\n",
    "    return {v: k for k, v in dic.items()}"
   ],
   "id": "5c879ce0ab511eba",
   "outputs": [],
   "execution_count": 211
  },
  {
   "metadata": {
    "ExecuteTime": {
     "end_time": "2025-02-08T13:44:08.509463Z",
     "start_time": "2025-02-08T13:44:08.479226Z"
    }
   },
   "cell_type": "code",
   "source": [
    "from sklearn.impute import KNNImputer\n",
    "\n",
    "def column_imputation(data, to_impute_obj_col, to_impute_num_col):\n",
    "    before_backpack = data.copy()\n",
    "    \n",
    "    # Create dictionaries dynamically for obj col\n",
    "    label_dicts = {col: get_labels_dict(before_backpack, col) for col in to_impute_obj_col}\n",
    "    \n",
    "    # Map ordinal categories using generated dictionaries\n",
    "    for col in to_impute_obj_col:\n",
    "        before_backpack[col] = before_backpack[col].map(label_dicts[col])\n",
    "            \n",
    "    # Perform KNN Imputation\n",
    "    imputer = KNNImputer(n_neighbors=3, weights='distance')\n",
    "    imputed_backpack = imputer.fit_transform(before_backpack[to_impute_obj_col + to_impute_num_col])\n",
    "    \n",
    "    # Convert back to DataFrame\n",
    "    imputed_df = pd.DataFrame(imputed_backpack, columns=to_impute_obj_col + to_impute_num_col, index=before_backpack.index)\n",
    "\n",
    "    # Map back to original categorical values\n",
    "    for col in to_impute_obj_col:\n",
    "        imputed_df[col] = imputed_df[col].round().astype(int)\n",
    "        imputed_df[col] = imputed_df[col].map(reverse_dic(label_dicts[col]))\n",
    "\n",
    "    imputed_backpack = data.copy()\n",
    "    imputed_backpack[to_impute_obj_col + to_impute_num_col] = round(imputed_df)\n",
    "    \n",
    "    return imputed_backpack"
   ],
   "id": "b4f53f3d3db37061",
   "outputs": [],
   "execution_count": 212
  },
  {
   "metadata": {
    "ExecuteTime": {
     "end_time": "2025-02-08T13:44:08.528920Z",
     "start_time": "2025-02-08T13:44:08.520469Z"
    }
   },
   "cell_type": "code",
   "source": [
    "to_impute_obj_col = ['Size', 'Laptop_Compartment', 'Waterproof']\n",
    "to_impute_num_col = ['Weight_Capacity_(kg)']"
   ],
   "id": "18bd03d8a6e70f5",
   "outputs": [],
   "execution_count": 213
  },
  {
   "metadata": {},
   "cell_type": "markdown",
   "source": "### Test Dataset Imputation",
   "id": "a69c88f6f7d34526"
  },
  {
   "metadata": {
    "ExecuteTime": {
     "end_time": "2025-02-08T13:44:08.685042Z",
     "start_time": "2025-02-08T13:44:08.533937Z"
    }
   },
   "cell_type": "code",
   "source": [
    "for col in nominal_col:\n",
    "    mod_value = test_backpack[col].mode()[0]\n",
    "    test_backpack[col] = test_backpack[col].fillna(mod_value)"
   ],
   "id": "6127e0810aca730c",
   "outputs": [],
   "execution_count": 214
  },
  {
   "metadata": {
    "ExecuteTime": {
     "end_time": "2025-02-08T13:44:08.780859Z",
     "start_time": "2025-02-08T13:44:08.708587Z"
    }
   },
   "cell_type": "code",
   "source": "print(test_backpack.isnull().sum())",
   "id": "433a61479e1cd7bf",
   "outputs": [
    {
     "name": "stdout",
     "output_type": "stream",
     "text": [
      "Brand                      0\n",
      "Material                   0\n",
      "Size                    4381\n",
      "Compartments               0\n",
      "Laptop_Compartment      4962\n",
      "Waterproof              4811\n",
      "Style                      0\n",
      "Color                      0\n",
      "Weight_Capacity_(kg)      77\n",
      "dtype: int64\n"
     ]
    }
   ],
   "execution_count": 216
  },
  {
   "metadata": {
    "ExecuteTime": {
     "end_time": "2025-02-08T13:48:43.181793Z",
     "start_time": "2025-02-08T13:44:08.784889Z"
    }
   },
   "cell_type": "code",
   "source": "imputed_test_backpack = column_imputation(test_backpack, to_impute_obj_col, to_impute_num_col)",
   "id": "ee7208bade416721",
   "outputs": [],
   "execution_count": 217
  },
  {
   "metadata": {
    "ExecuteTime": {
     "end_time": "2025-02-08T13:48:43.637515Z",
     "start_time": "2025-02-08T13:48:43.257806Z"
    }
   },
   "cell_type": "code",
   "source": "imputed_test_backpack.isnull().sum()",
   "id": "d63df7723eb5adf6",
   "outputs": [
    {
     "data": {
      "text/plain": [
       "Brand                   0\n",
       "Material                0\n",
       "Size                    0\n",
       "Compartments            0\n",
       "Laptop_Compartment      0\n",
       "Waterproof              0\n",
       "Style                   0\n",
       "Color                   0\n",
       "Weight_Capacity_(kg)    0\n",
       "dtype: int64"
      ]
     },
     "execution_count": 218,
     "metadata": {},
     "output_type": "execute_result"
    }
   ],
   "execution_count": 218
  },
  {
   "metadata": {},
   "cell_type": "markdown",
   "source": "## Add Total Revenue for each Brand in 2023",
   "id": "247952f0340b8cc8"
  },
  {
   "metadata": {
    "ExecuteTime": {
     "end_time": "2025-02-08T13:48:43.680590Z",
     "start_time": "2025-02-08T13:48:43.645526Z"
    }
   },
   "cell_type": "code",
   "source": [
    "total_revenu = {\n",
    "  \"Adidas\": 23.19,\n",
    "  \"Nike\": 51.54,\n",
    "  \"Puma\": 8.88,\n",
    "  \"Under Armour\": 5.9,\n",
    "  \"Jansport\": 10.5\n",
    "}"
   ],
   "id": "526f00ae696abea5",
   "outputs": [],
   "execution_count": 219
  },
  {
   "metadata": {
    "ExecuteTime": {
     "end_time": "2025-02-08T13:50:46.500674Z",
     "start_time": "2025-02-08T13:50:38.125602Z"
    }
   },
   "cell_type": "code",
   "source": [
    "final_backpack = clean_backpack2.dropna().copy()\n",
    "final_backpack['total_revenue_2023'] = final_backpack['Brand'].map(total_revenu)\n",
    "imputed_test_backpack['total_revenue_2023'] = imputed_test_backpack['Brand'].map(total_revenu)"
   ],
   "id": "b356959da4ffe55c",
   "outputs": [],
   "execution_count": 242
  },
  {
   "metadata": {
    "ExecuteTime": {
     "end_time": "2025-02-08T13:48:48.492110Z",
     "start_time": "2025-02-08T13:48:48.439643Z"
    }
   },
   "cell_type": "code",
   "source": "final_backpack.head()",
   "id": "1a004cadf0fa0b7",
   "outputs": [
    {
     "data": {
      "text/plain": [
       "          Brand Material    Size  Compartments Laptop_Compartment Waterproof  \\\n",
       "0      Jansport  Leather  Medium           7.0                Yes         No   \n",
       "1      Jansport   Canvas   Small          10.0                Yes        Yes   \n",
       "2  Under Armour  Leather   Small           2.0                Yes         No   \n",
       "3          Nike    Nylon   Small           8.0                Yes         No   \n",
       "4        Adidas   Canvas  Medium           1.0                Yes        Yes   \n",
       "\n",
       "       Style  Color  Weight_Capacity_(kg)      Price  total_revenue_2023  \n",
       "0       Tote  Black             11.611723  112.15875               10.50  \n",
       "1  Messenger  Green             27.078537   68.88056               10.50  \n",
       "2  Messenger    Red             16.643760   39.17320                5.90  \n",
       "3  Messenger  Green             12.937220   80.60793               51.54  \n",
       "4  Messenger  Green             17.749338   86.02312               23.19  "
      ],
      "text/html": [
       "<div>\n",
       "<style scoped>\n",
       "    .dataframe tbody tr th:only-of-type {\n",
       "        vertical-align: middle;\n",
       "    }\n",
       "\n",
       "    .dataframe tbody tr th {\n",
       "        vertical-align: top;\n",
       "    }\n",
       "\n",
       "    .dataframe thead th {\n",
       "        text-align: right;\n",
       "    }\n",
       "</style>\n",
       "<table border=\"1\" class=\"dataframe\">\n",
       "  <thead>\n",
       "    <tr style=\"text-align: right;\">\n",
       "      <th></th>\n",
       "      <th>Brand</th>\n",
       "      <th>Material</th>\n",
       "      <th>Size</th>\n",
       "      <th>Compartments</th>\n",
       "      <th>Laptop_Compartment</th>\n",
       "      <th>Waterproof</th>\n",
       "      <th>Style</th>\n",
       "      <th>Color</th>\n",
       "      <th>Weight_Capacity_(kg)</th>\n",
       "      <th>Price</th>\n",
       "      <th>total_revenue_2023</th>\n",
       "    </tr>\n",
       "  </thead>\n",
       "  <tbody>\n",
       "    <tr>\n",
       "      <th>0</th>\n",
       "      <td>Jansport</td>\n",
       "      <td>Leather</td>\n",
       "      <td>Medium</td>\n",
       "      <td>7.0</td>\n",
       "      <td>Yes</td>\n",
       "      <td>No</td>\n",
       "      <td>Tote</td>\n",
       "      <td>Black</td>\n",
       "      <td>11.611723</td>\n",
       "      <td>112.15875</td>\n",
       "      <td>10.50</td>\n",
       "    </tr>\n",
       "    <tr>\n",
       "      <th>1</th>\n",
       "      <td>Jansport</td>\n",
       "      <td>Canvas</td>\n",
       "      <td>Small</td>\n",
       "      <td>10.0</td>\n",
       "      <td>Yes</td>\n",
       "      <td>Yes</td>\n",
       "      <td>Messenger</td>\n",
       "      <td>Green</td>\n",
       "      <td>27.078537</td>\n",
       "      <td>68.88056</td>\n",
       "      <td>10.50</td>\n",
       "    </tr>\n",
       "    <tr>\n",
       "      <th>2</th>\n",
       "      <td>Under Armour</td>\n",
       "      <td>Leather</td>\n",
       "      <td>Small</td>\n",
       "      <td>2.0</td>\n",
       "      <td>Yes</td>\n",
       "      <td>No</td>\n",
       "      <td>Messenger</td>\n",
       "      <td>Red</td>\n",
       "      <td>16.643760</td>\n",
       "      <td>39.17320</td>\n",
       "      <td>5.90</td>\n",
       "    </tr>\n",
       "    <tr>\n",
       "      <th>3</th>\n",
       "      <td>Nike</td>\n",
       "      <td>Nylon</td>\n",
       "      <td>Small</td>\n",
       "      <td>8.0</td>\n",
       "      <td>Yes</td>\n",
       "      <td>No</td>\n",
       "      <td>Messenger</td>\n",
       "      <td>Green</td>\n",
       "      <td>12.937220</td>\n",
       "      <td>80.60793</td>\n",
       "      <td>51.54</td>\n",
       "    </tr>\n",
       "    <tr>\n",
       "      <th>4</th>\n",
       "      <td>Adidas</td>\n",
       "      <td>Canvas</td>\n",
       "      <td>Medium</td>\n",
       "      <td>1.0</td>\n",
       "      <td>Yes</td>\n",
       "      <td>Yes</td>\n",
       "      <td>Messenger</td>\n",
       "      <td>Green</td>\n",
       "      <td>17.749338</td>\n",
       "      <td>86.02312</td>\n",
       "      <td>23.19</td>\n",
       "    </tr>\n",
       "  </tbody>\n",
       "</table>\n",
       "</div>"
      ]
     },
     "execution_count": 221,
     "metadata": {},
     "output_type": "execute_result"
    }
   ],
   "execution_count": 221
  },
  {
   "metadata": {},
   "cell_type": "markdown",
   "source": "# Feature Encoding",
   "id": "70438db2b13983c6"
  },
  {
   "metadata": {
    "ExecuteTime": {
     "end_time": "2025-02-08T14:04:00.815086Z",
     "start_time": "2025-02-08T14:03:55.281691Z"
    }
   },
   "cell_type": "code",
   "source": [
    "X = final_backpack.drop(['Price','Color'], axis=1)\n",
    "y = final_backpack['Price']"
   ],
   "id": "bb35d63c76290fa",
   "outputs": [],
   "execution_count": 254
  },
  {
   "metadata": {
    "ExecuteTime": {
     "end_time": "2025-02-08T14:04:02.209357Z",
     "start_time": "2025-02-08T14:04:02.111221Z"
    }
   },
   "cell_type": "code",
   "source": [
    "ordinal_categories = {\n",
    "    'Waterproof': ['Yes', 'No'],\n",
    "    'Size': ['Small', 'Medium', 'Large'],\n",
    "    'Laptop_Compartment': ['Yes', 'No']\n",
    "}"
   ],
   "id": "d73cef7502aa5139",
   "outputs": [],
   "execution_count": 255
  },
  {
   "metadata": {
    "ExecuteTime": {
     "end_time": "2025-02-08T14:04:04.405683Z",
     "start_time": "2025-02-08T14:04:04.168927Z"
    }
   },
   "cell_type": "code",
   "source": "num_col = X.select_dtypes(include='number').columns.tolist()",
   "id": "897f9d845f8e76e4",
   "outputs": [],
   "execution_count": 256
  },
  {
   "metadata": {
    "ExecuteTime": {
     "end_time": "2025-02-08T14:04:08.303650Z",
     "start_time": "2025-02-08T14:04:07.818647Z"
    }
   },
   "cell_type": "code",
   "source": "to_onehot_col = X.drop(list(to_impute_obj_col + num_col), axis=1).columns.tolist()",
   "id": "da7996f31ea6e8c0",
   "outputs": [],
   "execution_count": 257
  },
  {
   "metadata": {
    "ExecuteTime": {
     "end_time": "2025-02-08T14:04:20.505187Z",
     "start_time": "2025-02-08T14:04:09.023478Z"
    }
   },
   "cell_type": "code",
   "source": [
    "from sklearn.preprocessing import OneHotEncoder, OrdinalEncoder, MinMaxScaler\n",
    "from sklearn.compose import ColumnTransformer\n",
    "\n",
    "transformer = ColumnTransformer(transformers=[\n",
    "    ('onehot encoding', OneHotEncoder(drop='first', sparse_output=False, handle_unknown='ignore'), to_onehot_col),\n",
    "    ('ordinal', OrdinalEncoder(\n",
    "            categories=[ordinal_categories[col] for col in ordinal_categories],\n",
    "        ), list(ordinal_categories.keys())),\n",
    "    ('minmaxscaler', MinMaxScaler(), num_col)]\n",
    "    , remainder=\"passthrough\", verbose_feature_names_out=False\n",
    ").set_output(transform=\"pandas\")\n",
    "\n",
    "X_transformed = transformer.fit_transform(X)"
   ],
   "id": "8bfcbe3dcbda70f2",
   "outputs": [],
   "execution_count": 258
  },
  {
   "metadata": {
    "ExecuteTime": {
     "end_time": "2025-02-08T14:04:21.864985Z",
     "start_time": "2025-02-08T14:04:21.692600Z"
    }
   },
   "cell_type": "code",
   "source": "X_transformed.head()",
   "id": "eeb9ebea418a85e",
   "outputs": [
    {
     "data": {
      "text/plain": [
       "   Brand_Jansport  Brand_Nike  Brand_Puma  Brand_Under Armour  \\\n",
       "0             1.0         0.0         0.0                 0.0   \n",
       "1             1.0         0.0         0.0                 0.0   \n",
       "2             0.0         0.0         0.0                 1.0   \n",
       "3             0.0         1.0         0.0                 0.0   \n",
       "4             0.0         0.0         0.0                 0.0   \n",
       "\n",
       "   Material_Leather  Material_Nylon  Material_Polyester  Style_Messenger  \\\n",
       "0               1.0             0.0                 0.0              0.0   \n",
       "1               0.0             0.0                 0.0              1.0   \n",
       "2               1.0             0.0                 0.0              1.0   \n",
       "3               0.0             1.0                 0.0              1.0   \n",
       "4               0.0             0.0                 0.0              1.0   \n",
       "\n",
       "   Style_Tote  Color_Blue  Color_Gray  Color_Green  Color_Pink  Color_Red  \\\n",
       "0         1.0         0.0         0.0          0.0         0.0        0.0   \n",
       "1         0.0         0.0         0.0          1.0         0.0        0.0   \n",
       "2         0.0         0.0         0.0          0.0         0.0        1.0   \n",
       "3         0.0         0.0         0.0          1.0         0.0        0.0   \n",
       "4         0.0         0.0         0.0          1.0         0.0        0.0   \n",
       "\n",
       "   Waterproof  Size  Laptop_Compartment  Compartments  Weight_Capacity_(kg)  \\\n",
       "0         1.0   1.0                 0.0      0.666667              0.264469   \n",
       "1         0.0   0.0                 0.0      1.000000              0.883141   \n",
       "2         1.0   0.0                 0.0      0.111111              0.465750   \n",
       "3         1.0   0.0                 0.0      0.777778              0.317489   \n",
       "4         0.0   1.0                 0.0      0.000000              0.509974   \n",
       "\n",
       "   total_revenue_2023  \n",
       "0            0.100789  \n",
       "1            0.100789  \n",
       "2            0.000000  \n",
       "3            1.000000  \n",
       "4            0.378834  "
      ],
      "text/html": [
       "<div>\n",
       "<style scoped>\n",
       "    .dataframe tbody tr th:only-of-type {\n",
       "        vertical-align: middle;\n",
       "    }\n",
       "\n",
       "    .dataframe tbody tr th {\n",
       "        vertical-align: top;\n",
       "    }\n",
       "\n",
       "    .dataframe thead th {\n",
       "        text-align: right;\n",
       "    }\n",
       "</style>\n",
       "<table border=\"1\" class=\"dataframe\">\n",
       "  <thead>\n",
       "    <tr style=\"text-align: right;\">\n",
       "      <th></th>\n",
       "      <th>Brand_Jansport</th>\n",
       "      <th>Brand_Nike</th>\n",
       "      <th>Brand_Puma</th>\n",
       "      <th>Brand_Under Armour</th>\n",
       "      <th>Material_Leather</th>\n",
       "      <th>Material_Nylon</th>\n",
       "      <th>Material_Polyester</th>\n",
       "      <th>Style_Messenger</th>\n",
       "      <th>Style_Tote</th>\n",
       "      <th>Color_Blue</th>\n",
       "      <th>Color_Gray</th>\n",
       "      <th>Color_Green</th>\n",
       "      <th>Color_Pink</th>\n",
       "      <th>Color_Red</th>\n",
       "      <th>Waterproof</th>\n",
       "      <th>Size</th>\n",
       "      <th>Laptop_Compartment</th>\n",
       "      <th>Compartments</th>\n",
       "      <th>Weight_Capacity_(kg)</th>\n",
       "      <th>total_revenue_2023</th>\n",
       "    </tr>\n",
       "  </thead>\n",
       "  <tbody>\n",
       "    <tr>\n",
       "      <th>0</th>\n",
       "      <td>1.0</td>\n",
       "      <td>0.0</td>\n",
       "      <td>0.0</td>\n",
       "      <td>0.0</td>\n",
       "      <td>1.0</td>\n",
       "      <td>0.0</td>\n",
       "      <td>0.0</td>\n",
       "      <td>0.0</td>\n",
       "      <td>1.0</td>\n",
       "      <td>0.0</td>\n",
       "      <td>0.0</td>\n",
       "      <td>0.0</td>\n",
       "      <td>0.0</td>\n",
       "      <td>0.0</td>\n",
       "      <td>1.0</td>\n",
       "      <td>1.0</td>\n",
       "      <td>0.0</td>\n",
       "      <td>0.666667</td>\n",
       "      <td>0.264469</td>\n",
       "      <td>0.100789</td>\n",
       "    </tr>\n",
       "    <tr>\n",
       "      <th>1</th>\n",
       "      <td>1.0</td>\n",
       "      <td>0.0</td>\n",
       "      <td>0.0</td>\n",
       "      <td>0.0</td>\n",
       "      <td>0.0</td>\n",
       "      <td>0.0</td>\n",
       "      <td>0.0</td>\n",
       "      <td>1.0</td>\n",
       "      <td>0.0</td>\n",
       "      <td>0.0</td>\n",
       "      <td>0.0</td>\n",
       "      <td>1.0</td>\n",
       "      <td>0.0</td>\n",
       "      <td>0.0</td>\n",
       "      <td>0.0</td>\n",
       "      <td>0.0</td>\n",
       "      <td>0.0</td>\n",
       "      <td>1.000000</td>\n",
       "      <td>0.883141</td>\n",
       "      <td>0.100789</td>\n",
       "    </tr>\n",
       "    <tr>\n",
       "      <th>2</th>\n",
       "      <td>0.0</td>\n",
       "      <td>0.0</td>\n",
       "      <td>0.0</td>\n",
       "      <td>1.0</td>\n",
       "      <td>1.0</td>\n",
       "      <td>0.0</td>\n",
       "      <td>0.0</td>\n",
       "      <td>1.0</td>\n",
       "      <td>0.0</td>\n",
       "      <td>0.0</td>\n",
       "      <td>0.0</td>\n",
       "      <td>0.0</td>\n",
       "      <td>0.0</td>\n",
       "      <td>1.0</td>\n",
       "      <td>1.0</td>\n",
       "      <td>0.0</td>\n",
       "      <td>0.0</td>\n",
       "      <td>0.111111</td>\n",
       "      <td>0.465750</td>\n",
       "      <td>0.000000</td>\n",
       "    </tr>\n",
       "    <tr>\n",
       "      <th>3</th>\n",
       "      <td>0.0</td>\n",
       "      <td>1.0</td>\n",
       "      <td>0.0</td>\n",
       "      <td>0.0</td>\n",
       "      <td>0.0</td>\n",
       "      <td>1.0</td>\n",
       "      <td>0.0</td>\n",
       "      <td>1.0</td>\n",
       "      <td>0.0</td>\n",
       "      <td>0.0</td>\n",
       "      <td>0.0</td>\n",
       "      <td>1.0</td>\n",
       "      <td>0.0</td>\n",
       "      <td>0.0</td>\n",
       "      <td>1.0</td>\n",
       "      <td>0.0</td>\n",
       "      <td>0.0</td>\n",
       "      <td>0.777778</td>\n",
       "      <td>0.317489</td>\n",
       "      <td>1.000000</td>\n",
       "    </tr>\n",
       "    <tr>\n",
       "      <th>4</th>\n",
       "      <td>0.0</td>\n",
       "      <td>0.0</td>\n",
       "      <td>0.0</td>\n",
       "      <td>0.0</td>\n",
       "      <td>0.0</td>\n",
       "      <td>0.0</td>\n",
       "      <td>0.0</td>\n",
       "      <td>1.0</td>\n",
       "      <td>0.0</td>\n",
       "      <td>0.0</td>\n",
       "      <td>0.0</td>\n",
       "      <td>1.0</td>\n",
       "      <td>0.0</td>\n",
       "      <td>0.0</td>\n",
       "      <td>0.0</td>\n",
       "      <td>1.0</td>\n",
       "      <td>0.0</td>\n",
       "      <td>0.000000</td>\n",
       "      <td>0.509974</td>\n",
       "      <td>0.378834</td>\n",
       "    </tr>\n",
       "  </tbody>\n",
       "</table>\n",
       "</div>"
      ]
     },
     "execution_count": 259,
     "metadata": {},
     "output_type": "execute_result"
    }
   ],
   "execution_count": 259
  },
  {
   "metadata": {},
   "cell_type": "markdown",
   "source": "# Regression",
   "id": "ca6e51237bef74ca"
  },
  {
   "metadata": {
    "ExecuteTime": {
     "end_time": "2025-02-08T14:04:28.628450Z",
     "start_time": "2025-02-08T14:04:25.287067Z"
    }
   },
   "cell_type": "code",
   "source": [
    "from sklearn.linear_model import LinearRegression\n",
    "import lightgbm as lgb\n",
    "import datetime as dt\n",
    "from sklearn.model_selection import train_test_split\n",
    "\n",
    "X_train, X_test, y_train, y_test = train_test_split(X_transformed, y, test_size=0.2, random_state=42)\n",
    "lr = LinearRegression()"
   ],
   "id": "45dc520062bfc6cf",
   "outputs": [],
   "execution_count": 260
  },
  {
   "metadata": {
    "ExecuteTime": {
     "end_time": "2025-02-08T14:04:43.759856Z",
     "start_time": "2025-02-08T14:04:43.664813Z"
    }
   },
   "cell_type": "code",
   "source": [
    "dtrain = lgb.Dataset(X_train, label=y_train)\n",
    "dtest = lgb.Dataset(X_test, label=y_test)\n",
    "\n",
    "\n",
    "lgb_param = {\n",
    "    'application':'regression',\n",
    "    'learning_rate':0.1, \n",
    "}"
   ],
   "id": "819035db498ca7c9",
   "outputs": [],
   "execution_count": 263
  },
  {
   "metadata": {
    "ExecuteTime": {
     "end_time": "2025-02-08T14:04:38.270326Z",
     "start_time": "2025-02-08T14:04:33.086014Z"
    }
   },
   "cell_type": "code",
   "source": "lr.fit(X_train, y_train)",
   "id": "8a0a7be03aa878ff",
   "outputs": [
    {
     "data": {
      "text/plain": [
       "LinearRegression()"
      ],
      "text/html": [
       "<style>#sk-container-id-5 {\n",
       "  /* Definition of color scheme common for light and dark mode */\n",
       "  --sklearn-color-text: black;\n",
       "  --sklearn-color-line: gray;\n",
       "  /* Definition of color scheme for unfitted estimators */\n",
       "  --sklearn-color-unfitted-level-0: #fff5e6;\n",
       "  --sklearn-color-unfitted-level-1: #f6e4d2;\n",
       "  --sklearn-color-unfitted-level-2: #ffe0b3;\n",
       "  --sklearn-color-unfitted-level-3: chocolate;\n",
       "  /* Definition of color scheme for fitted estimators */\n",
       "  --sklearn-color-fitted-level-0: #f0f8ff;\n",
       "  --sklearn-color-fitted-level-1: #d4ebff;\n",
       "  --sklearn-color-fitted-level-2: #b3dbfd;\n",
       "  --sklearn-color-fitted-level-3: cornflowerblue;\n",
       "\n",
       "  /* Specific color for light theme */\n",
       "  --sklearn-color-text-on-default-background: var(--sg-text-color, var(--theme-code-foreground, var(--jp-content-font-color1, black)));\n",
       "  --sklearn-color-background: var(--sg-background-color, var(--theme-background, var(--jp-layout-color0, white)));\n",
       "  --sklearn-color-border-box: var(--sg-text-color, var(--theme-code-foreground, var(--jp-content-font-color1, black)));\n",
       "  --sklearn-color-icon: #696969;\n",
       "\n",
       "  @media (prefers-color-scheme: dark) {\n",
       "    /* Redefinition of color scheme for dark theme */\n",
       "    --sklearn-color-text-on-default-background: var(--sg-text-color, var(--theme-code-foreground, var(--jp-content-font-color1, white)));\n",
       "    --sklearn-color-background: var(--sg-background-color, var(--theme-background, var(--jp-layout-color0, #111)));\n",
       "    --sklearn-color-border-box: var(--sg-text-color, var(--theme-code-foreground, var(--jp-content-font-color1, white)));\n",
       "    --sklearn-color-icon: #878787;\n",
       "  }\n",
       "}\n",
       "\n",
       "#sk-container-id-5 {\n",
       "  color: var(--sklearn-color-text);\n",
       "}\n",
       "\n",
       "#sk-container-id-5 pre {\n",
       "  padding: 0;\n",
       "}\n",
       "\n",
       "#sk-container-id-5 input.sk-hidden--visually {\n",
       "  border: 0;\n",
       "  clip: rect(1px 1px 1px 1px);\n",
       "  clip: rect(1px, 1px, 1px, 1px);\n",
       "  height: 1px;\n",
       "  margin: -1px;\n",
       "  overflow: hidden;\n",
       "  padding: 0;\n",
       "  position: absolute;\n",
       "  width: 1px;\n",
       "}\n",
       "\n",
       "#sk-container-id-5 div.sk-dashed-wrapped {\n",
       "  border: 1px dashed var(--sklearn-color-line);\n",
       "  margin: 0 0.4em 0.5em 0.4em;\n",
       "  box-sizing: border-box;\n",
       "  padding-bottom: 0.4em;\n",
       "  background-color: var(--sklearn-color-background);\n",
       "}\n",
       "\n",
       "#sk-container-id-5 div.sk-container {\n",
       "  /* jupyter's `normalize.less` sets `[hidden] { display: none; }`\n",
       "     but bootstrap.min.css set `[hidden] { display: none !important; }`\n",
       "     so we also need the `!important` here to be able to override the\n",
       "     default hidden behavior on the sphinx rendered scikit-learn.org.\n",
       "     See: https://github.com/scikit-learn/scikit-learn/issues/21755 */\n",
       "  display: inline-block !important;\n",
       "  position: relative;\n",
       "}\n",
       "\n",
       "#sk-container-id-5 div.sk-text-repr-fallback {\n",
       "  display: none;\n",
       "}\n",
       "\n",
       "div.sk-parallel-item,\n",
       "div.sk-serial,\n",
       "div.sk-item {\n",
       "  /* draw centered vertical line to link estimators */\n",
       "  background-image: linear-gradient(var(--sklearn-color-text-on-default-background), var(--sklearn-color-text-on-default-background));\n",
       "  background-size: 2px 100%;\n",
       "  background-repeat: no-repeat;\n",
       "  background-position: center center;\n",
       "}\n",
       "\n",
       "/* Parallel-specific style estimator block */\n",
       "\n",
       "#sk-container-id-5 div.sk-parallel-item::after {\n",
       "  content: \"\";\n",
       "  width: 100%;\n",
       "  border-bottom: 2px solid var(--sklearn-color-text-on-default-background);\n",
       "  flex-grow: 1;\n",
       "}\n",
       "\n",
       "#sk-container-id-5 div.sk-parallel {\n",
       "  display: flex;\n",
       "  align-items: stretch;\n",
       "  justify-content: center;\n",
       "  background-color: var(--sklearn-color-background);\n",
       "  position: relative;\n",
       "}\n",
       "\n",
       "#sk-container-id-5 div.sk-parallel-item {\n",
       "  display: flex;\n",
       "  flex-direction: column;\n",
       "}\n",
       "\n",
       "#sk-container-id-5 div.sk-parallel-item:first-child::after {\n",
       "  align-self: flex-end;\n",
       "  width: 50%;\n",
       "}\n",
       "\n",
       "#sk-container-id-5 div.sk-parallel-item:last-child::after {\n",
       "  align-self: flex-start;\n",
       "  width: 50%;\n",
       "}\n",
       "\n",
       "#sk-container-id-5 div.sk-parallel-item:only-child::after {\n",
       "  width: 0;\n",
       "}\n",
       "\n",
       "/* Serial-specific style estimator block */\n",
       "\n",
       "#sk-container-id-5 div.sk-serial {\n",
       "  display: flex;\n",
       "  flex-direction: column;\n",
       "  align-items: center;\n",
       "  background-color: var(--sklearn-color-background);\n",
       "  padding-right: 1em;\n",
       "  padding-left: 1em;\n",
       "}\n",
       "\n",
       "\n",
       "/* Toggleable style: style used for estimator/Pipeline/ColumnTransformer box that is\n",
       "clickable and can be expanded/collapsed.\n",
       "- Pipeline and ColumnTransformer use this feature and define the default style\n",
       "- Estimators will overwrite some part of the style using the `sk-estimator` class\n",
       "*/\n",
       "\n",
       "/* Pipeline and ColumnTransformer style (default) */\n",
       "\n",
       "#sk-container-id-5 div.sk-toggleable {\n",
       "  /* Default theme specific background. It is overwritten whether we have a\n",
       "  specific estimator or a Pipeline/ColumnTransformer */\n",
       "  background-color: var(--sklearn-color-background);\n",
       "}\n",
       "\n",
       "/* Toggleable label */\n",
       "#sk-container-id-5 label.sk-toggleable__label {\n",
       "  cursor: pointer;\n",
       "  display: block;\n",
       "  width: 100%;\n",
       "  margin-bottom: 0;\n",
       "  padding: 0.5em;\n",
       "  box-sizing: border-box;\n",
       "  text-align: center;\n",
       "}\n",
       "\n",
       "#sk-container-id-5 label.sk-toggleable__label-arrow:before {\n",
       "  /* Arrow on the left of the label */\n",
       "  content: \"▸\";\n",
       "  float: left;\n",
       "  margin-right: 0.25em;\n",
       "  color: var(--sklearn-color-icon);\n",
       "}\n",
       "\n",
       "#sk-container-id-5 label.sk-toggleable__label-arrow:hover:before {\n",
       "  color: var(--sklearn-color-text);\n",
       "}\n",
       "\n",
       "/* Toggleable content - dropdown */\n",
       "\n",
       "#sk-container-id-5 div.sk-toggleable__content {\n",
       "  max-height: 0;\n",
       "  max-width: 0;\n",
       "  overflow: hidden;\n",
       "  text-align: left;\n",
       "  /* unfitted */\n",
       "  background-color: var(--sklearn-color-unfitted-level-0);\n",
       "}\n",
       "\n",
       "#sk-container-id-5 div.sk-toggleable__content.fitted {\n",
       "  /* fitted */\n",
       "  background-color: var(--sklearn-color-fitted-level-0);\n",
       "}\n",
       "\n",
       "#sk-container-id-5 div.sk-toggleable__content pre {\n",
       "  margin: 0.2em;\n",
       "  border-radius: 0.25em;\n",
       "  color: var(--sklearn-color-text);\n",
       "  /* unfitted */\n",
       "  background-color: var(--sklearn-color-unfitted-level-0);\n",
       "}\n",
       "\n",
       "#sk-container-id-5 div.sk-toggleable__content.fitted pre {\n",
       "  /* unfitted */\n",
       "  background-color: var(--sklearn-color-fitted-level-0);\n",
       "}\n",
       "\n",
       "#sk-container-id-5 input.sk-toggleable__control:checked~div.sk-toggleable__content {\n",
       "  /* Expand drop-down */\n",
       "  max-height: 200px;\n",
       "  max-width: 100%;\n",
       "  overflow: auto;\n",
       "}\n",
       "\n",
       "#sk-container-id-5 input.sk-toggleable__control:checked~label.sk-toggleable__label-arrow:before {\n",
       "  content: \"▾\";\n",
       "}\n",
       "\n",
       "/* Pipeline/ColumnTransformer-specific style */\n",
       "\n",
       "#sk-container-id-5 div.sk-label input.sk-toggleable__control:checked~label.sk-toggleable__label {\n",
       "  color: var(--sklearn-color-text);\n",
       "  background-color: var(--sklearn-color-unfitted-level-2);\n",
       "}\n",
       "\n",
       "#sk-container-id-5 div.sk-label.fitted input.sk-toggleable__control:checked~label.sk-toggleable__label {\n",
       "  background-color: var(--sklearn-color-fitted-level-2);\n",
       "}\n",
       "\n",
       "/* Estimator-specific style */\n",
       "\n",
       "/* Colorize estimator box */\n",
       "#sk-container-id-5 div.sk-estimator input.sk-toggleable__control:checked~label.sk-toggleable__label {\n",
       "  /* unfitted */\n",
       "  background-color: var(--sklearn-color-unfitted-level-2);\n",
       "}\n",
       "\n",
       "#sk-container-id-5 div.sk-estimator.fitted input.sk-toggleable__control:checked~label.sk-toggleable__label {\n",
       "  /* fitted */\n",
       "  background-color: var(--sklearn-color-fitted-level-2);\n",
       "}\n",
       "\n",
       "#sk-container-id-5 div.sk-label label.sk-toggleable__label,\n",
       "#sk-container-id-5 div.sk-label label {\n",
       "  /* The background is the default theme color */\n",
       "  color: var(--sklearn-color-text-on-default-background);\n",
       "}\n",
       "\n",
       "/* On hover, darken the color of the background */\n",
       "#sk-container-id-5 div.sk-label:hover label.sk-toggleable__label {\n",
       "  color: var(--sklearn-color-text);\n",
       "  background-color: var(--sklearn-color-unfitted-level-2);\n",
       "}\n",
       "\n",
       "/* Label box, darken color on hover, fitted */\n",
       "#sk-container-id-5 div.sk-label.fitted:hover label.sk-toggleable__label.fitted {\n",
       "  color: var(--sklearn-color-text);\n",
       "  background-color: var(--sklearn-color-fitted-level-2);\n",
       "}\n",
       "\n",
       "/* Estimator label */\n",
       "\n",
       "#sk-container-id-5 div.sk-label label {\n",
       "  font-family: monospace;\n",
       "  font-weight: bold;\n",
       "  display: inline-block;\n",
       "  line-height: 1.2em;\n",
       "}\n",
       "\n",
       "#sk-container-id-5 div.sk-label-container {\n",
       "  text-align: center;\n",
       "}\n",
       "\n",
       "/* Estimator-specific */\n",
       "#sk-container-id-5 div.sk-estimator {\n",
       "  font-family: monospace;\n",
       "  border: 1px dotted var(--sklearn-color-border-box);\n",
       "  border-radius: 0.25em;\n",
       "  box-sizing: border-box;\n",
       "  margin-bottom: 0.5em;\n",
       "  /* unfitted */\n",
       "  background-color: var(--sklearn-color-unfitted-level-0);\n",
       "}\n",
       "\n",
       "#sk-container-id-5 div.sk-estimator.fitted {\n",
       "  /* fitted */\n",
       "  background-color: var(--sklearn-color-fitted-level-0);\n",
       "}\n",
       "\n",
       "/* on hover */\n",
       "#sk-container-id-5 div.sk-estimator:hover {\n",
       "  /* unfitted */\n",
       "  background-color: var(--sklearn-color-unfitted-level-2);\n",
       "}\n",
       "\n",
       "#sk-container-id-5 div.sk-estimator.fitted:hover {\n",
       "  /* fitted */\n",
       "  background-color: var(--sklearn-color-fitted-level-2);\n",
       "}\n",
       "\n",
       "/* Specification for estimator info (e.g. \"i\" and \"?\") */\n",
       "\n",
       "/* Common style for \"i\" and \"?\" */\n",
       "\n",
       ".sk-estimator-doc-link,\n",
       "a:link.sk-estimator-doc-link,\n",
       "a:visited.sk-estimator-doc-link {\n",
       "  float: right;\n",
       "  font-size: smaller;\n",
       "  line-height: 1em;\n",
       "  font-family: monospace;\n",
       "  background-color: var(--sklearn-color-background);\n",
       "  border-radius: 1em;\n",
       "  height: 1em;\n",
       "  width: 1em;\n",
       "  text-decoration: none !important;\n",
       "  margin-left: 1ex;\n",
       "  /* unfitted */\n",
       "  border: var(--sklearn-color-unfitted-level-1) 1pt solid;\n",
       "  color: var(--sklearn-color-unfitted-level-1);\n",
       "}\n",
       "\n",
       ".sk-estimator-doc-link.fitted,\n",
       "a:link.sk-estimator-doc-link.fitted,\n",
       "a:visited.sk-estimator-doc-link.fitted {\n",
       "  /* fitted */\n",
       "  border: var(--sklearn-color-fitted-level-1) 1pt solid;\n",
       "  color: var(--sklearn-color-fitted-level-1);\n",
       "}\n",
       "\n",
       "/* On hover */\n",
       "div.sk-estimator:hover .sk-estimator-doc-link:hover,\n",
       ".sk-estimator-doc-link:hover,\n",
       "div.sk-label-container:hover .sk-estimator-doc-link:hover,\n",
       ".sk-estimator-doc-link:hover {\n",
       "  /* unfitted */\n",
       "  background-color: var(--sklearn-color-unfitted-level-3);\n",
       "  color: var(--sklearn-color-background);\n",
       "  text-decoration: none;\n",
       "}\n",
       "\n",
       "div.sk-estimator.fitted:hover .sk-estimator-doc-link.fitted:hover,\n",
       ".sk-estimator-doc-link.fitted:hover,\n",
       "div.sk-label-container:hover .sk-estimator-doc-link.fitted:hover,\n",
       ".sk-estimator-doc-link.fitted:hover {\n",
       "  /* fitted */\n",
       "  background-color: var(--sklearn-color-fitted-level-3);\n",
       "  color: var(--sklearn-color-background);\n",
       "  text-decoration: none;\n",
       "}\n",
       "\n",
       "/* Span, style for the box shown on hovering the info icon */\n",
       ".sk-estimator-doc-link span {\n",
       "  display: none;\n",
       "  z-index: 9999;\n",
       "  position: relative;\n",
       "  font-weight: normal;\n",
       "  right: .2ex;\n",
       "  padding: .5ex;\n",
       "  margin: .5ex;\n",
       "  width: min-content;\n",
       "  min-width: 20ex;\n",
       "  max-width: 50ex;\n",
       "  color: var(--sklearn-color-text);\n",
       "  box-shadow: 2pt 2pt 4pt #999;\n",
       "  /* unfitted */\n",
       "  background: var(--sklearn-color-unfitted-level-0);\n",
       "  border: .5pt solid var(--sklearn-color-unfitted-level-3);\n",
       "}\n",
       "\n",
       ".sk-estimator-doc-link.fitted span {\n",
       "  /* fitted */\n",
       "  background: var(--sklearn-color-fitted-level-0);\n",
       "  border: var(--sklearn-color-fitted-level-3);\n",
       "}\n",
       "\n",
       ".sk-estimator-doc-link:hover span {\n",
       "  display: block;\n",
       "}\n",
       "\n",
       "/* \"?\"-specific style due to the `<a>` HTML tag */\n",
       "\n",
       "#sk-container-id-5 a.estimator_doc_link {\n",
       "  float: right;\n",
       "  font-size: 1rem;\n",
       "  line-height: 1em;\n",
       "  font-family: monospace;\n",
       "  background-color: var(--sklearn-color-background);\n",
       "  border-radius: 1rem;\n",
       "  height: 1rem;\n",
       "  width: 1rem;\n",
       "  text-decoration: none;\n",
       "  /* unfitted */\n",
       "  color: var(--sklearn-color-unfitted-level-1);\n",
       "  border: var(--sklearn-color-unfitted-level-1) 1pt solid;\n",
       "}\n",
       "\n",
       "#sk-container-id-5 a.estimator_doc_link.fitted {\n",
       "  /* fitted */\n",
       "  border: var(--sklearn-color-fitted-level-1) 1pt solid;\n",
       "  color: var(--sklearn-color-fitted-level-1);\n",
       "}\n",
       "\n",
       "/* On hover */\n",
       "#sk-container-id-5 a.estimator_doc_link:hover {\n",
       "  /* unfitted */\n",
       "  background-color: var(--sklearn-color-unfitted-level-3);\n",
       "  color: var(--sklearn-color-background);\n",
       "  text-decoration: none;\n",
       "}\n",
       "\n",
       "#sk-container-id-5 a.estimator_doc_link.fitted:hover {\n",
       "  /* fitted */\n",
       "  background-color: var(--sklearn-color-fitted-level-3);\n",
       "}\n",
       "</style><div id=\"sk-container-id-5\" class=\"sk-top-container\"><div class=\"sk-text-repr-fallback\"><pre>LinearRegression()</pre><b>In a Jupyter environment, please rerun this cell to show the HTML representation or trust the notebook. <br />On GitHub, the HTML representation is unable to render, please try loading this page with nbviewer.org.</b></div><div class=\"sk-container\" hidden><div class=\"sk-item\"><div class=\"sk-estimator fitted sk-toggleable\"><input class=\"sk-toggleable__control sk-hidden--visually\" id=\"sk-estimator-id-5\" type=\"checkbox\" checked><label for=\"sk-estimator-id-5\" class=\"sk-toggleable__label fitted sk-toggleable__label-arrow fitted\">&nbsp;&nbsp;LinearRegression<a class=\"sk-estimator-doc-link fitted\" rel=\"noreferrer\" target=\"_blank\" href=\"https://scikit-learn.org/1.5/modules/generated/sklearn.linear_model.LinearRegression.html\">?<span>Documentation for LinearRegression</span></a><span class=\"sk-estimator-doc-link fitted\">i<span>Fitted</span></span></label><div class=\"sk-toggleable__content fitted\"><pre>LinearRegression()</pre></div> </div></div></div></div>"
      ]
     },
     "execution_count": 262,
     "metadata": {},
     "output_type": "execute_result"
    }
   ],
   "execution_count": 262
  },
  {
   "metadata": {
    "ExecuteTime": {
     "end_time": "2025-02-08T14:04:58.665220Z",
     "start_time": "2025-02-08T14:04:45.199145Z"
    }
   },
   "cell_type": "code",
   "source": [
    "start = dt.datetime.now()\n",
    "clf = lgb.train(lgb_param, dtrain, 50)\n",
    "end = dt.datetime.now()\n",
    "elapsed = end - start"
   ],
   "id": "43b46306e285c60e",
   "outputs": [
    {
     "name": "stdout",
     "output_type": "stream",
     "text": [
      "[LightGBM] [Warning] Found whitespace in feature_names, replace with underlines\n",
      "[LightGBM] [Warning] Auto-choosing row-wise multi-threading, the overhead of testing was 0.041042 seconds.\n",
      "You can set `force_row_wise=true` to remove the overhead.\n",
      "And if memory is not enough, you can set `force_col_wise=true`.\n",
      "[LightGBM] [Info] Total Bins 305\n",
      "[LightGBM] [Info] Number of data points in the train set: 2630802, number of used features: 20\n",
      "[LightGBM] [Info] Start training from score 81.478594\n"
     ]
    }
   ],
   "execution_count": 264
  },
  {
   "metadata": {
    "ExecuteTime": {
     "end_time": "2025-02-08T14:05:01.615519Z",
     "start_time": "2025-02-08T14:05:00.751645Z"
    }
   },
   "cell_type": "code",
   "source": "lr.score(X_train, y_train)",
   "id": "92134ac063bf922f",
   "outputs": [
    {
     "data": {
      "text/plain": [
       "0.0009909372212216772"
      ]
     },
     "execution_count": 265,
     "metadata": {},
     "output_type": "execute_result"
    }
   ],
   "execution_count": 265
  },
  {
   "metadata": {
    "ExecuteTime": {
     "end_time": "2025-02-08T14:05:05.412163Z",
     "start_time": "2025-02-08T14:05:03.958267Z"
    }
   },
   "cell_type": "code",
   "source": "lr.score(X_test, y_test)",
   "id": "42506549abe2ce1b",
   "outputs": [
    {
     "data": {
      "text/plain": [
       "0.001064220408680816"
      ]
     },
     "execution_count": 266,
     "metadata": {},
     "output_type": "execute_result"
    }
   ],
   "execution_count": 266
  },
  {
   "metadata": {
    "ExecuteTime": {
     "end_time": "2025-02-08T14:05:08.734130Z",
     "start_time": "2025-02-08T14:05:07.201960Z"
    }
   },
   "cell_type": "code",
   "source": [
    "y_pred = lr.predict(X_test)\n",
    "y_pred2 = clf.predict(X_test) "
   ],
   "id": "c32968f219b46c93",
   "outputs": [],
   "execution_count": 267
  },
  {
   "metadata": {
    "ExecuteTime": {
     "end_time": "2025-02-08T14:05:10.968474Z",
     "start_time": "2025-02-08T14:05:10.915490Z"
    }
   },
   "cell_type": "code",
   "source": [
    "from sklearn.metrics import root_mean_squared_error\n",
    "\n",
    "rmse1 = root_mean_squared_error(y_test, y_pred)\n",
    "rmse2 = root_mean_squared_error(y_test, y_pred2)"
   ],
   "id": "3b975d44cf2f7f5b",
   "outputs": [],
   "execution_count": 268
  },
  {
   "metadata": {
    "ExecuteTime": {
     "end_time": "2025-02-08T14:05:12.677635Z",
     "start_time": "2025-02-08T14:05:12.662631Z"
    }
   },
   "cell_type": "code",
   "source": [
    "print('Root Mean Squared Error : ', rmse1)\n",
    "print('Root Mean Squared Error : ', rmse2)"
   ],
   "id": "4593f880cf525029",
   "outputs": [
    {
     "name": "stdout",
     "output_type": "stream",
     "text": [
      "Root Mean Squared Error :  38.78882408613481\n",
      "Root Mean Squared Error :  38.77175422486366\n"
     ]
    }
   ],
   "execution_count": 269
  },
  {
   "metadata": {},
   "cell_type": "markdown",
   "source": "# Submission",
   "id": "68fd109d4cf08704"
  },
  {
   "metadata": {
    "ExecuteTime": {
     "end_time": "2025-02-08T14:05:23.549792Z",
     "start_time": "2025-02-08T14:05:22.526740Z"
    }
   },
   "cell_type": "code",
   "source": "X_test_transformed = transformer.transform(imputed_test_backpack)",
   "id": "373cddb1bbad5a6",
   "outputs": [],
   "execution_count": 270
  },
  {
   "metadata": {
    "ExecuteTime": {
     "end_time": "2025-02-08T14:05:35.731547Z",
     "start_time": "2025-02-08T14:05:35.678618Z"
    }
   },
   "cell_type": "code",
   "source": "sub_pred = lr.predict(X_test_transformed)",
   "id": "7edb80df053fe950",
   "outputs": [],
   "execution_count": 272
  },
  {
   "metadata": {
    "ExecuteTime": {
     "end_time": "2025-02-08T14:05:47.547139Z",
     "start_time": "2025-02-08T14:05:46.606429Z"
    }
   },
   "cell_type": "code",
   "source": [
    "sub = pd.read_csv('./data/sample_submission.csv')\n",
    "sub['Price'] = sub_pred\n",
    "sub.to_csv('submission3.csv', index=False)"
   ],
   "id": "f598c500e216e4b9",
   "outputs": [],
   "execution_count": 273
  }
 ],
 "metadata": {
  "kernelspec": {
   "display_name": "Python 3",
   "language": "python",
   "name": "python3"
  },
  "language_info": {
   "codemirror_mode": {
    "name": "ipython",
    "version": 2
   },
   "file_extension": ".py",
   "mimetype": "text/x-python",
   "name": "python",
   "nbconvert_exporter": "python",
   "pygments_lexer": "ipython2",
   "version": "2.7.6"
  }
 },
 "nbformat": 4,
 "nbformat_minor": 5
}
