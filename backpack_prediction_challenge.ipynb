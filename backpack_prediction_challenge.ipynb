{
 "cells": [
  {
   "cell_type": "code",
   "id": "initial_id",
   "metadata": {
    "collapsed": true,
    "ExecuteTime": {
     "end_time": "2025-02-16T21:51:44.290950Z",
     "start_time": "2025-02-16T21:51:44.283019Z"
    }
   },
   "source": [
    "import pandas as pd\n",
    "import numpy as np\n",
    "import matplotlib.pyplot as plt\n",
    "import seaborn as sns\n",
    "sns.set_style(\"whitegrid\")"
   ],
   "outputs": [],
   "execution_count": 1
  },
  {
   "metadata": {
    "ExecuteTime": {
     "end_time": "2025-02-16T21:51:51.110200Z",
     "start_time": "2025-02-16T21:51:44.299963Z"
    }
   },
   "cell_type": "code",
   "source": [
    "train_backpack = pd.read_csv('./data/train.csv')\n",
    "extra_backpack = pd.read_csv('./data/training_extra.csv')\n",
    "test_backpack = pd.read_csv('./data/test.csv')"
   ],
   "id": "b0e3f1babfd25a43",
   "outputs": [],
   "execution_count": 2
  },
  {
   "metadata": {
    "ExecuteTime": {
     "end_time": "2025-02-16T21:51:51.944826Z",
     "start_time": "2025-02-16T21:51:51.113214Z"
    }
   },
   "cell_type": "code",
   "source": [
    "backpack = pd.concat([train_backpack, extra_backpack])\n",
    "backpack.drop('id', axis=1, inplace=True)\n",
    "test_backpack.drop('id', axis=1, inplace=True)"
   ],
   "id": "684362dd5ae619fc",
   "outputs": [],
   "execution_count": 3
  },
  {
   "metadata": {
    "ExecuteTime": {
     "end_time": "2025-02-16T21:51:51.960954Z",
     "start_time": "2025-02-16T21:51:51.947846Z"
    }
   },
   "cell_type": "code",
   "source": [
    "backpack.columns = backpack.columns.str.replace(\" \", \"_\")\n",
    "test_backpack.columns = test_backpack.columns.str.replace(\" \", \"_\")"
   ],
   "id": "3bf8b5aedae17d64",
   "outputs": [],
   "execution_count": 4
  },
  {
   "metadata": {
    "ExecuteTime": {
     "end_time": "2025-02-16T21:51:52.020941Z",
     "start_time": "2025-02-16T21:51:51.963964Z"
    }
   },
   "cell_type": "code",
   "source": "backpack.head()",
   "id": "6879a80c373c9bbc",
   "outputs": [
    {
     "data": {
      "text/plain": [
       "          Brand Material    Size  Compartments Laptop_Compartment Waterproof  \\\n",
       "0      Jansport  Leather  Medium           7.0                Yes         No   \n",
       "1      Jansport   Canvas   Small          10.0                Yes        Yes   \n",
       "2  Under Armour  Leather   Small           2.0                Yes         No   \n",
       "3          Nike    Nylon   Small           8.0                Yes         No   \n",
       "4        Adidas   Canvas  Medium           1.0                Yes        Yes   \n",
       "\n",
       "       Style  Color  Weight_Capacity_(kg)      Price  \n",
       "0       Tote  Black             11.611723  112.15875  \n",
       "1  Messenger  Green             27.078537   68.88056  \n",
       "2  Messenger    Red             16.643760   39.17320  \n",
       "3  Messenger  Green             12.937220   80.60793  \n",
       "4  Messenger  Green             17.749338   86.02312  "
      ],
      "text/html": [
       "<div>\n",
       "<style scoped>\n",
       "    .dataframe tbody tr th:only-of-type {\n",
       "        vertical-align: middle;\n",
       "    }\n",
       "\n",
       "    .dataframe tbody tr th {\n",
       "        vertical-align: top;\n",
       "    }\n",
       "\n",
       "    .dataframe thead th {\n",
       "        text-align: right;\n",
       "    }\n",
       "</style>\n",
       "<table border=\"1\" class=\"dataframe\">\n",
       "  <thead>\n",
       "    <tr style=\"text-align: right;\">\n",
       "      <th></th>\n",
       "      <th>Brand</th>\n",
       "      <th>Material</th>\n",
       "      <th>Size</th>\n",
       "      <th>Compartments</th>\n",
       "      <th>Laptop_Compartment</th>\n",
       "      <th>Waterproof</th>\n",
       "      <th>Style</th>\n",
       "      <th>Color</th>\n",
       "      <th>Weight_Capacity_(kg)</th>\n",
       "      <th>Price</th>\n",
       "    </tr>\n",
       "  </thead>\n",
       "  <tbody>\n",
       "    <tr>\n",
       "      <th>0</th>\n",
       "      <td>Jansport</td>\n",
       "      <td>Leather</td>\n",
       "      <td>Medium</td>\n",
       "      <td>7.0</td>\n",
       "      <td>Yes</td>\n",
       "      <td>No</td>\n",
       "      <td>Tote</td>\n",
       "      <td>Black</td>\n",
       "      <td>11.611723</td>\n",
       "      <td>112.15875</td>\n",
       "    </tr>\n",
       "    <tr>\n",
       "      <th>1</th>\n",
       "      <td>Jansport</td>\n",
       "      <td>Canvas</td>\n",
       "      <td>Small</td>\n",
       "      <td>10.0</td>\n",
       "      <td>Yes</td>\n",
       "      <td>Yes</td>\n",
       "      <td>Messenger</td>\n",
       "      <td>Green</td>\n",
       "      <td>27.078537</td>\n",
       "      <td>68.88056</td>\n",
       "    </tr>\n",
       "    <tr>\n",
       "      <th>2</th>\n",
       "      <td>Under Armour</td>\n",
       "      <td>Leather</td>\n",
       "      <td>Small</td>\n",
       "      <td>2.0</td>\n",
       "      <td>Yes</td>\n",
       "      <td>No</td>\n",
       "      <td>Messenger</td>\n",
       "      <td>Red</td>\n",
       "      <td>16.643760</td>\n",
       "      <td>39.17320</td>\n",
       "    </tr>\n",
       "    <tr>\n",
       "      <th>3</th>\n",
       "      <td>Nike</td>\n",
       "      <td>Nylon</td>\n",
       "      <td>Small</td>\n",
       "      <td>8.0</td>\n",
       "      <td>Yes</td>\n",
       "      <td>No</td>\n",
       "      <td>Messenger</td>\n",
       "      <td>Green</td>\n",
       "      <td>12.937220</td>\n",
       "      <td>80.60793</td>\n",
       "    </tr>\n",
       "    <tr>\n",
       "      <th>4</th>\n",
       "      <td>Adidas</td>\n",
       "      <td>Canvas</td>\n",
       "      <td>Medium</td>\n",
       "      <td>1.0</td>\n",
       "      <td>Yes</td>\n",
       "      <td>Yes</td>\n",
       "      <td>Messenger</td>\n",
       "      <td>Green</td>\n",
       "      <td>17.749338</td>\n",
       "      <td>86.02312</td>\n",
       "    </tr>\n",
       "  </tbody>\n",
       "</table>\n",
       "</div>"
      ]
     },
     "execution_count": 5,
     "metadata": {},
     "output_type": "execute_result"
    }
   ],
   "execution_count": 5
  },
  {
   "metadata": {},
   "cell_type": "markdown",
   "source": "# Treating Missing Value",
   "id": "ec0224726b36d333"
  },
  {
   "metadata": {
    "ExecuteTime": {
     "end_time": "2025-02-16T21:51:52.068198Z",
     "start_time": "2025-02-16T21:51:52.024955Z"
    }
   },
   "cell_type": "code",
   "source": "backpack.info()",
   "id": "8554db8c87e326fe",
   "outputs": [
    {
     "name": "stdout",
     "output_type": "stream",
     "text": [
      "<class 'pandas.core.frame.DataFrame'>\n",
      "Index: 3994318 entries, 0 to 3694317\n",
      "Data columns (total 10 columns):\n",
      " #   Column                Dtype  \n",
      "---  ------                -----  \n",
      " 0   Brand                 object \n",
      " 1   Material              object \n",
      " 2   Size                  object \n",
      " 3   Compartments          float64\n",
      " 4   Laptop_Compartment    object \n",
      " 5   Waterproof            object \n",
      " 6   Style                 object \n",
      " 7   Color                 object \n",
      " 8   Weight_Capacity_(kg)  float64\n",
      " 9   Price                 float64\n",
      "dtypes: float64(3), object(7)\n",
      "memory usage: 335.2+ MB\n"
     ]
    }
   ],
   "execution_count": 6
  },
  {
   "metadata": {},
   "cell_type": "markdown",
   "source": "## Delete Rows with 3 Nan value and More",
   "id": "310eafbf64a993c"
  },
  {
   "metadata": {
    "ExecuteTime": {
     "end_time": "2025-02-16T21:51:55.061644Z",
     "start_time": "2025-02-16T21:51:52.073215Z"
    }
   },
   "cell_type": "code",
   "source": [
    "threshold = 3\n",
    "mask = backpack.isna().sum(axis=1) >= threshold\n",
    "filtered_backpack = backpack[mask]"
   ],
   "id": "169139240bfcf29c",
   "outputs": [],
   "execution_count": 7
  },
  {
   "metadata": {
    "ExecuteTime": {
     "end_time": "2025-02-16T21:51:55.746653Z",
     "start_time": "2025-02-16T21:51:55.070661Z"
    }
   },
   "cell_type": "code",
   "source": "clean_backpack1 = backpack[~mask]",
   "id": "8bbe471bd87a3470",
   "outputs": [],
   "execution_count": 8
  },
  {
   "metadata": {},
   "cell_type": "markdown",
   "source": "## Remove Missing Value for Nominal Categories",
   "id": "13d19a6eabbee4b7"
  },
  {
   "metadata": {
    "ExecuteTime": {
     "end_time": "2025-02-16T21:51:58.095324Z",
     "start_time": "2025-02-16T21:51:55.749178Z"
    }
   },
   "cell_type": "code",
   "source": [
    "nominal_col = ['Brand', 'Material', 'Style', 'Color']\n",
    "clean_backpack2 = clean_backpack1.dropna(subset=nominal_col)"
   ],
   "id": "532cae77c21ecd60",
   "outputs": [],
   "execution_count": 9
  },
  {
   "metadata": {
    "ExecuteTime": {
     "end_time": "2025-02-16T21:51:59.697774Z",
     "start_time": "2025-02-16T21:51:58.100340Z"
    }
   },
   "cell_type": "code",
   "source": "clean_backpack2.isna().sum()",
   "id": "b0fe29e375bc5f44",
   "outputs": [
    {
     "data": {
      "text/plain": [
       "Brand                       0\n",
       "Material                    0\n",
       "Size                    80598\n",
       "Compartments                0\n",
       "Laptop_Compartment      88337\n",
       "Waterproof              87073\n",
       "Style                       0\n",
       "Color                       0\n",
       "Weight_Capacity_(kg)      387\n",
       "Price                       0\n",
       "dtype: int64"
      ]
     },
     "execution_count": 10,
     "metadata": {},
     "output_type": "execute_result"
    }
   ],
   "execution_count": 10
  },
  {
   "metadata": {},
   "cell_type": "markdown",
   "source": "## Missing Value Imputation",
   "id": "4f2fb2267806ee04"
  },
  {
   "metadata": {
    "ExecuteTime": {
     "end_time": "2025-02-16T21:51:59.720082Z",
     "start_time": "2025-02-16T21:51:59.702207Z"
    }
   },
   "cell_type": "code",
   "source": [
    "def get_labels_dict(data, col):\n",
    "    labels = data[col].sort_values(ascending=False).unique().tolist()\n",
    "    label_dic = {k:i for i, k in enumerate(labels)}\n",
    "    if np.nan in label_dic.keys():\n",
    "        label_dic[np.nan] = np.nan\n",
    "    return label_dic"
   ],
   "id": "b27d4deade22c8f",
   "outputs": [],
   "execution_count": 11
  },
  {
   "metadata": {
    "ExecuteTime": {
     "end_time": "2025-02-16T21:51:59.776616Z",
     "start_time": "2025-02-16T21:51:59.724100Z"
    }
   },
   "cell_type": "code",
   "source": [
    "def reverse_dic(dic):\n",
    "    return {v: k for k, v in dic.items()}"
   ],
   "id": "5c879ce0ab511eba",
   "outputs": [],
   "execution_count": 12
  },
  {
   "metadata": {
    "ExecuteTime": {
     "end_time": "2025-02-16T21:52:01.277885Z",
     "start_time": "2025-02-16T21:51:59.783141Z"
    }
   },
   "cell_type": "code",
   "source": [
    "from sklearn.impute import KNNImputer\n",
    "\n",
    "def column_imputation(data, to_impute_obj_col, to_impute_num_col):\n",
    "    before_backpack = data.copy()\n",
    "    \n",
    "    # Create dictionaries dynamically for obj col\n",
    "    label_dicts = {col: get_labels_dict(before_backpack, col) for col in to_impute_obj_col}\n",
    "    \n",
    "    # Map ordinal categories using generated dictionaries\n",
    "    for col in to_impute_obj_col:\n",
    "        before_backpack[col] = before_backpack[col].map(label_dicts[col])\n",
    "            \n",
    "    # Perform KNN Imputation\n",
    "    imputer = KNNImputer(n_neighbors=3, weights='distance')\n",
    "    imputed_backpack = imputer.fit_transform(before_backpack[to_impute_obj_col + to_impute_num_col])\n",
    "    \n",
    "    # Convert back to DataFrame\n",
    "    imputed_df = pd.DataFrame(imputed_backpack, columns=to_impute_obj_col + to_impute_num_col, index=before_backpack.index)\n",
    "\n",
    "    # Map back to original categorical values\n",
    "    for col in to_impute_obj_col:\n",
    "        imputed_df[col] = imputed_df[col].round().astype(int)\n",
    "        imputed_df[col] = imputed_df[col].map(reverse_dic(label_dicts[col]))\n",
    "\n",
    "    imputed_backpack = data.copy()\n",
    "    imputed_backpack[to_impute_obj_col + to_impute_num_col] = round(imputed_df)\n",
    "    \n",
    "    return imputed_backpack"
   ],
   "id": "b4f53f3d3db37061",
   "outputs": [],
   "execution_count": 13
  },
  {
   "metadata": {
    "ExecuteTime": {
     "end_time": "2025-02-16T21:52:01.290383Z",
     "start_time": "2025-02-16T21:52:01.279896Z"
    }
   },
   "cell_type": "code",
   "source": [
    "to_impute_obj_col = ['Size', 'Laptop_Compartment', 'Waterproof']\n",
    "to_impute_num_col = ['Weight_Capacity_(kg)']"
   ],
   "id": "18bd03d8a6e70f5",
   "outputs": [],
   "execution_count": 14
  },
  {
   "metadata": {
    "ExecuteTime": {
     "end_time": "2025-02-16T21:52:04.317136Z",
     "start_time": "2025-02-16T21:52:01.294397Z"
    }
   },
   "cell_type": "code",
   "source": "final_backpack = clean_backpack2.dropna().copy()",
   "id": "6aad854a35355723",
   "outputs": [],
   "execution_count": 15
  },
  {
   "metadata": {},
   "cell_type": "markdown",
   "source": "### Test Dataset Imputation",
   "id": "a69c88f6f7d34526"
  },
  {
   "metadata": {
    "ExecuteTime": {
     "end_time": "2025-02-16T21:52:08.304221Z",
     "start_time": "2025-02-16T21:52:04.324156Z"
    }
   },
   "cell_type": "code",
   "source": [
    "for col in test_backpack.columns.tolist():\n",
    "    mod_value = final_backpack[col].mode()[0]\n",
    "    test_backpack[col] = test_backpack[col].fillna(mod_value)"
   ],
   "id": "6127e0810aca730c",
   "outputs": [],
   "execution_count": 16
  },
  {
   "metadata": {
    "ExecuteTime": {
     "end_time": "2025-02-16T21:52:08.394142Z",
     "start_time": "2025-02-16T21:52:08.308744Z"
    }
   },
   "cell_type": "code",
   "source": "print(test_backpack.isnull().sum())",
   "id": "433a61479e1cd7bf",
   "outputs": [
    {
     "name": "stdout",
     "output_type": "stream",
     "text": [
      "Brand                   0\n",
      "Material                0\n",
      "Size                    0\n",
      "Compartments            0\n",
      "Laptop_Compartment      0\n",
      "Waterproof              0\n",
      "Style                   0\n",
      "Color                   0\n",
      "Weight_Capacity_(kg)    0\n",
      "dtype: int64\n"
     ]
    }
   ],
   "execution_count": 17
  },
  {
   "metadata": {
    "ExecuteTime": {
     "end_time": "2025-02-16T21:52:08.463196Z",
     "start_time": "2025-02-16T21:52:08.398155Z"
    }
   },
   "cell_type": "code",
   "source": [
    "# imputed_test_backpack = column_imputation(test_backpack, to_impute_obj_col, to_impute_num_col)\n",
    "imputed_test_backpack = test_backpack.copy()"
   ],
   "id": "ee7208bade416721",
   "outputs": [],
   "execution_count": 18
  },
  {
   "metadata": {
    "ExecuteTime": {
     "end_time": "2025-02-16T21:52:08.550236Z",
     "start_time": "2025-02-16T21:52:08.467205Z"
    }
   },
   "cell_type": "code",
   "source": "imputed_test_backpack.isnull().sum()",
   "id": "d63df7723eb5adf6",
   "outputs": [
    {
     "data": {
      "text/plain": [
       "Brand                   0\n",
       "Material                0\n",
       "Size                    0\n",
       "Compartments            0\n",
       "Laptop_Compartment      0\n",
       "Waterproof              0\n",
       "Style                   0\n",
       "Color                   0\n",
       "Weight_Capacity_(kg)    0\n",
       "dtype: int64"
      ]
     },
     "execution_count": 19,
     "metadata": {},
     "output_type": "execute_result"
    }
   ],
   "execution_count": 19
  },
  {
   "metadata": {},
   "cell_type": "markdown",
   "source": "## Add Total Revenue for each Brand in 2023",
   "id": "247952f0340b8cc8"
  },
  {
   "metadata": {
    "ExecuteTime": {
     "end_time": "2025-02-16T21:52:08.566535Z",
     "start_time": "2025-02-16T21:52:08.556255Z"
    }
   },
   "cell_type": "code",
   "source": [
    "total_revenu = {\n",
    "  \"Adidas\": 23.19,\n",
    "  \"Nike\": 51.54,\n",
    "  \"Puma\": 8.88,\n",
    "  \"Under Armour\": 5.9,\n",
    "  \"Jansport\": 10.5\n",
    "}"
   ],
   "id": "526f00ae696abea5",
   "outputs": [],
   "execution_count": 20
  },
  {
   "metadata": {
    "ExecuteTime": {
     "end_time": "2025-02-16T21:52:08.583880Z",
     "start_time": "2025-02-16T21:52:08.574555Z"
    }
   },
   "cell_type": "code",
   "source": [
    "# final_backpack['total_revenue_2023'] = final_backpack['Brand'].map(total_revenu)\n",
    "# imputed_test_backpack['total_revenue_2023'] = imputed_test_backpack['Brand'].map(total_revenu)"
   ],
   "id": "b356959da4ffe55c",
   "outputs": [],
   "execution_count": 21
  },
  {
   "metadata": {
    "ExecuteTime": {
     "end_time": "2025-02-16T21:52:08.598905Z",
     "start_time": "2025-02-16T21:52:08.588897Z"
    }
   },
   "cell_type": "code",
   "source": [
    "# final_backpack['compartments_efficiency'] = final_backpack['Compartments'] / final_backpack['Weight_Capacity_(kg)']\n",
    "# imputed_test_backpack['compartments_efficiency'] = imputed_test_backpack['Compartments'] / imputed_test_backpack['Weight_Capacity_(kg)']"
   ],
   "id": "d849e88f7eefd6ef",
   "outputs": [],
   "execution_count": 22
  },
  {
   "metadata": {
    "ExecuteTime": {
     "end_time": "2025-02-16T21:52:08.618250Z",
     "start_time": "2025-02-16T21:52:08.606457Z"
    }
   },
   "cell_type": "code",
   "source": [
    "# final_backpack[\"Has_Laptop_Compartment_Waterproof\"] = ((final_backpack[\"Laptop_Compartment\"] == \"Yes\") & (final_backpack[\"Waterproof\"] == \"Yes\")).astype(bool)\n",
    "# imputed_test_backpack[\"Has_Laptop_Compartment_Waterproof\"] = ((imputed_test_backpack[\"Laptop_Compartment\"] == \"Yes\") & (imputed_test_backpack[\"Waterproof\"] == \"Yes\")).astype(bool)"
   ],
   "id": "7d60bd231fc77fe7",
   "outputs": [],
   "execution_count": 23
  },
  {
   "metadata": {
    "ExecuteTime": {
     "end_time": "2025-02-16T21:52:09.108160Z",
     "start_time": "2025-02-16T21:52:08.628266Z"
    }
   },
   "cell_type": "code",
   "source": [
    "material_durability = {\"Canvas\": 1, \"Nylon\": 2, \"Polyester\": 3, \"Leather\": 4}\n",
    "final_backpack[\"Material_Durability_Score\"] = final_backpack[\"Material\"].map(material_durability)\n",
    "imputed_test_backpack[\"Material_Durability_Score\"] = imputed_test_backpack[\"Material\"].map(material_durability)"
   ],
   "id": "e1f9b8cd066db60f",
   "outputs": [],
   "execution_count": 24
  },
  {
   "metadata": {
    "ExecuteTime": {
     "end_time": "2025-02-16T21:52:09.121283Z",
     "start_time": "2025-02-16T21:52:09.112178Z"
    }
   },
   "cell_type": "code",
   "source": [
    "# weight_bins = [4, 12, 18, 24, 30]\n",
    "# weight_labels = [\"Light\", \"Medium\", \"Heavy\", \"Very Heavy\"]\n",
    "# final_backpack[\"Weight_Category\"] = pd.cut(final_backpack[\"Weight_Capacity_(kg)\"], bins=weight_bins, labels=weight_labels)\n",
    "# imputed_test_backpack[\"Weight_Category\"] = pd.cut(imputed_test_backpack[\"Weight_Capacity_(kg)\"], bins=weight_bins, labels=weight_labels)"
   ],
   "id": "aeb6ced0aa7cf199",
   "outputs": [],
   "execution_count": 25
  },
  {
   "metadata": {},
   "cell_type": "markdown",
   "source": "# Feature Encoding",
   "id": "70438db2b13983c6"
  },
  {
   "metadata": {
    "ExecuteTime": {
     "end_time": "2025-02-16T22:05:35.078667Z",
     "start_time": "2025-02-16T22:05:31.917225Z"
    }
   },
   "cell_type": "code",
   "source": [
    "X = final_backpack.drop(['Price', 'Material'], axis=1)\n",
    "y = final_backpack['Price']"
   ],
   "id": "bb35d63c76290fa",
   "outputs": [],
   "execution_count": 56
  },
  {
   "metadata": {
    "ExecuteTime": {
     "end_time": "2025-02-16T21:52:09.442937Z",
     "start_time": "2025-02-16T21:52:09.405539Z"
    }
   },
   "cell_type": "code",
   "source": "X.head()",
   "id": "28395471632514eb",
   "outputs": [
    {
     "data": {
      "text/plain": [
       "     Size  Compartments Laptop_Compartment Waterproof  Weight_Capacity_(kg)  \\\n",
       "0  Medium           7.0                Yes         No             11.611723   \n",
       "1   Small          10.0                Yes        Yes             27.078537   \n",
       "2   Small           2.0                Yes         No             16.643760   \n",
       "3   Small           8.0                Yes         No             12.937220   \n",
       "4  Medium           1.0                Yes        Yes             17.749338   \n",
       "\n",
       "   Material_Durability_Score  \n",
       "0                          4  \n",
       "1                          1  \n",
       "2                          4  \n",
       "3                          2  \n",
       "4                          1  "
      ],
      "text/html": [
       "<div>\n",
       "<style scoped>\n",
       "    .dataframe tbody tr th:only-of-type {\n",
       "        vertical-align: middle;\n",
       "    }\n",
       "\n",
       "    .dataframe tbody tr th {\n",
       "        vertical-align: top;\n",
       "    }\n",
       "\n",
       "    .dataframe thead th {\n",
       "        text-align: right;\n",
       "    }\n",
       "</style>\n",
       "<table border=\"1\" class=\"dataframe\">\n",
       "  <thead>\n",
       "    <tr style=\"text-align: right;\">\n",
       "      <th></th>\n",
       "      <th>Size</th>\n",
       "      <th>Compartments</th>\n",
       "      <th>Laptop_Compartment</th>\n",
       "      <th>Waterproof</th>\n",
       "      <th>Weight_Capacity_(kg)</th>\n",
       "      <th>Material_Durability_Score</th>\n",
       "    </tr>\n",
       "  </thead>\n",
       "  <tbody>\n",
       "    <tr>\n",
       "      <th>0</th>\n",
       "      <td>Medium</td>\n",
       "      <td>7.0</td>\n",
       "      <td>Yes</td>\n",
       "      <td>No</td>\n",
       "      <td>11.611723</td>\n",
       "      <td>4</td>\n",
       "    </tr>\n",
       "    <tr>\n",
       "      <th>1</th>\n",
       "      <td>Small</td>\n",
       "      <td>10.0</td>\n",
       "      <td>Yes</td>\n",
       "      <td>Yes</td>\n",
       "      <td>27.078537</td>\n",
       "      <td>1</td>\n",
       "    </tr>\n",
       "    <tr>\n",
       "      <th>2</th>\n",
       "      <td>Small</td>\n",
       "      <td>2.0</td>\n",
       "      <td>Yes</td>\n",
       "      <td>No</td>\n",
       "      <td>16.643760</td>\n",
       "      <td>4</td>\n",
       "    </tr>\n",
       "    <tr>\n",
       "      <th>3</th>\n",
       "      <td>Small</td>\n",
       "      <td>8.0</td>\n",
       "      <td>Yes</td>\n",
       "      <td>No</td>\n",
       "      <td>12.937220</td>\n",
       "      <td>2</td>\n",
       "    </tr>\n",
       "    <tr>\n",
       "      <th>4</th>\n",
       "      <td>Medium</td>\n",
       "      <td>1.0</td>\n",
       "      <td>Yes</td>\n",
       "      <td>Yes</td>\n",
       "      <td>17.749338</td>\n",
       "      <td>1</td>\n",
       "    </tr>\n",
       "  </tbody>\n",
       "</table>\n",
       "</div>"
      ]
     },
     "execution_count": 27,
     "metadata": {},
     "output_type": "execute_result"
    }
   ],
   "execution_count": 27
  },
  {
   "metadata": {
    "ExecuteTime": {
     "end_time": "2025-02-16T21:52:09.459008Z",
     "start_time": "2025-02-16T21:52:09.447956Z"
    }
   },
   "cell_type": "code",
   "source": [
    "ordinal_categories = {\n",
    "    'Size': ['Small', 'Medium', 'Large'],\n",
    "    # 'Weight_Category': [\"Light\", \"Medium\", \"Heavy\", 'Very Heavy'],\n",
    "}"
   ],
   "id": "d73cef7502aa5139",
   "outputs": [],
   "execution_count": 28
  },
  {
   "metadata": {
    "ExecuteTime": {
     "end_time": "2025-02-16T21:52:09.475890Z",
     "start_time": "2025-02-16T21:52:09.466027Z"
    }
   },
   "cell_type": "code",
   "source": [
    "# num_col = X.select_dtypes(include='number').columns.tolist()\n",
    "num_col = X.columns.tolist()"
   ],
   "id": "897f9d845f8e76e4",
   "outputs": [],
   "execution_count": 29
  },
  {
   "metadata": {
    "ExecuteTime": {
     "end_time": "2025-02-16T22:05:36.437552Z",
     "start_time": "2025-02-16T22:05:36.423594Z"
    }
   },
   "cell_type": "code",
   "source": [
    "to_onehot_col = ['Laptop_Compartment', 'Waterproof']\n",
    "# 'Has_Laptop_Compartment_Waterproof'\n",
    "to_target_encode = ['Brand', 'Color', 'Style']\n",
    "# ['Weight_Category', 'Color', 'Style', 'Material', 'Brand']"
   ],
   "id": "da7996f31ea6e8c0",
   "outputs": [],
   "execution_count": 57
  },
  {
   "metadata": {
    "ExecuteTime": {
     "end_time": "2025-02-16T22:05:54.053955Z",
     "start_time": "2025-02-16T22:05:39.092172Z"
    }
   },
   "cell_type": "code",
   "source": [
    "from sklearn.preprocessing import OneHotEncoder, OrdinalEncoder, MinMaxScaler, TargetEncoder\n",
    "from sklearn.compose import ColumnTransformer\n",
    "\n",
    "transformer = ColumnTransformer(transformers=[\n",
    "    ('onehot encoding', OneHotEncoder(drop='first', sparse_output=False, handle_unknown='ignore'), to_onehot_col),\n",
    "    ('target encoding', TargetEncoder(smooth=2), to_target_encode),\n",
    "    ('ordinal', OrdinalEncoder(\n",
    "            categories=[ordinal_categories[col] for col in ordinal_categories],\n",
    "        ), list(ordinal_categories.keys())),\n",
    "    # ('minmaxscaler', MinMaxScaler(), num_col)\n",
    "]\n",
    "    , remainder=\"passthrough\", verbose_feature_names_out=False\n",
    ").set_output(transform=\"pandas\")\n",
    "\n",
    "X_transformed = transformer.fit_transform(X, y)"
   ],
   "id": "8bfcbe3dcbda70f2",
   "outputs": [],
   "execution_count": 58
  },
  {
   "metadata": {
    "ExecuteTime": {
     "end_time": "2025-02-16T22:05:54.586416Z",
     "start_time": "2025-02-16T22:05:54.146946Z"
    }
   },
   "cell_type": "code",
   "source": "num_cols = X_transformed.columns.tolist()",
   "id": "d6ff75187881d47",
   "outputs": [],
   "execution_count": 59
  },
  {
   "metadata": {
    "ExecuteTime": {
     "end_time": "2025-02-16T22:05:54.761472Z",
     "start_time": "2025-02-16T22:05:54.655434Z"
    }
   },
   "cell_type": "code",
   "source": [
    "def data_scaling(data): \n",
    "    scaler = MinMaxScaler()\n",
    "    scaled_data = scaler.fit_transform(data)\n",
    "    return scaled_data"
   ],
   "id": "fd2b7a5008e1c7d9",
   "outputs": [],
   "execution_count": 60
  },
  {
   "metadata": {
    "ExecuteTime": {
     "end_time": "2025-02-16T22:05:56.117328Z",
     "start_time": "2025-02-16T22:05:54.763996Z"
    }
   },
   "cell_type": "code",
   "source": "scaled_data = data_scaling(X_transformed)",
   "id": "eeb9ebea418a85e",
   "outputs": [],
   "execution_count": 61
  },
  {
   "metadata": {},
   "cell_type": "markdown",
   "source": "# Regression",
   "id": "ca6e51237bef74ca"
  },
  {
   "metadata": {
    "ExecuteTime": {
     "end_time": "2025-02-16T22:06:24.388605Z",
     "start_time": "2025-02-16T22:06:20.069605Z"
    }
   },
   "cell_type": "code",
   "source": [
    "from sklearn.linear_model import LinearRegression, ElasticNet\n",
    "from sklearn.svm import  SVR\n",
    "import lightgbm as lgb\n",
    "from xgboost import XGBRegressor\n",
    "import datetime as dt\n",
    "from sklearn.model_selection import train_test_split\n",
    "\n",
    "X_train, X_test, y_train, y_test = train_test_split(scaled_data, y, test_size=0.20, random_state=42)\n",
    "lr = LinearRegression()\n",
    "# elastic_net = ElasticNet(alpha=1.0, l1_ratio=0.5)"
   ],
   "id": "45dc520062bfc6cf",
   "outputs": [],
   "execution_count": 63
  },
  {
   "metadata": {
    "ExecuteTime": {
     "end_time": "2025-02-16T22:06:24.518147Z",
     "start_time": "2025-02-16T22:06:24.404149Z"
    }
   },
   "cell_type": "code",
   "source": [
    "dtrain = lgb.Dataset(X_train, label=y_train)\n",
    "dtest = lgb.Dataset(X_test, label=y_test)\n",
    "\n",
    "lgb_param = {\n",
    "    'objective': 'regression',  # For regression tasks\n",
    "    'metric': 'rmse',          # Use RMSE as the evaluation metric\n",
    "    'boosting_type': 'gbdt',\n",
    "    'learning_rate':0.1, \n",
    "    'max_depth': 10,\n",
    "}"
   ],
   "id": "819035db498ca7c9",
   "outputs": [],
   "execution_count": 64
  },
  {
   "metadata": {
    "ExecuteTime": {
     "end_time": "2025-02-16T22:06:27.536206Z",
     "start_time": "2025-02-16T22:06:24.527690Z"
    }
   },
   "cell_type": "code",
   "source": [
    "lr.fit(X_train, y_train)\n",
    "# elastic_net.fit(X_train, y_train)"
   ],
   "id": "8a0a7be03aa878ff",
   "outputs": [
    {
     "data": {
      "text/plain": [
       "LinearRegression()"
      ],
      "text/html": [
       "<style>#sk-container-id-2 {\n",
       "  /* Definition of color scheme common for light and dark mode */\n",
       "  --sklearn-color-text: black;\n",
       "  --sklearn-color-line: gray;\n",
       "  /* Definition of color scheme for unfitted estimators */\n",
       "  --sklearn-color-unfitted-level-0: #fff5e6;\n",
       "  --sklearn-color-unfitted-level-1: #f6e4d2;\n",
       "  --sklearn-color-unfitted-level-2: #ffe0b3;\n",
       "  --sklearn-color-unfitted-level-3: chocolate;\n",
       "  /* Definition of color scheme for fitted estimators */\n",
       "  --sklearn-color-fitted-level-0: #f0f8ff;\n",
       "  --sklearn-color-fitted-level-1: #d4ebff;\n",
       "  --sklearn-color-fitted-level-2: #b3dbfd;\n",
       "  --sklearn-color-fitted-level-3: cornflowerblue;\n",
       "\n",
       "  /* Specific color for light theme */\n",
       "  --sklearn-color-text-on-default-background: var(--sg-text-color, var(--theme-code-foreground, var(--jp-content-font-color1, black)));\n",
       "  --sklearn-color-background: var(--sg-background-color, var(--theme-background, var(--jp-layout-color0, white)));\n",
       "  --sklearn-color-border-box: var(--sg-text-color, var(--theme-code-foreground, var(--jp-content-font-color1, black)));\n",
       "  --sklearn-color-icon: #696969;\n",
       "\n",
       "  @media (prefers-color-scheme: dark) {\n",
       "    /* Redefinition of color scheme for dark theme */\n",
       "    --sklearn-color-text-on-default-background: var(--sg-text-color, var(--theme-code-foreground, var(--jp-content-font-color1, white)));\n",
       "    --sklearn-color-background: var(--sg-background-color, var(--theme-background, var(--jp-layout-color0, #111)));\n",
       "    --sklearn-color-border-box: var(--sg-text-color, var(--theme-code-foreground, var(--jp-content-font-color1, white)));\n",
       "    --sklearn-color-icon: #878787;\n",
       "  }\n",
       "}\n",
       "\n",
       "#sk-container-id-2 {\n",
       "  color: var(--sklearn-color-text);\n",
       "}\n",
       "\n",
       "#sk-container-id-2 pre {\n",
       "  padding: 0;\n",
       "}\n",
       "\n",
       "#sk-container-id-2 input.sk-hidden--visually {\n",
       "  border: 0;\n",
       "  clip: rect(1px 1px 1px 1px);\n",
       "  clip: rect(1px, 1px, 1px, 1px);\n",
       "  height: 1px;\n",
       "  margin: -1px;\n",
       "  overflow: hidden;\n",
       "  padding: 0;\n",
       "  position: absolute;\n",
       "  width: 1px;\n",
       "}\n",
       "\n",
       "#sk-container-id-2 div.sk-dashed-wrapped {\n",
       "  border: 1px dashed var(--sklearn-color-line);\n",
       "  margin: 0 0.4em 0.5em 0.4em;\n",
       "  box-sizing: border-box;\n",
       "  padding-bottom: 0.4em;\n",
       "  background-color: var(--sklearn-color-background);\n",
       "}\n",
       "\n",
       "#sk-container-id-2 div.sk-container {\n",
       "  /* jupyter's `normalize.less` sets `[hidden] { display: none; }`\n",
       "     but bootstrap.min.css set `[hidden] { display: none !important; }`\n",
       "     so we also need the `!important` here to be able to override the\n",
       "     default hidden behavior on the sphinx rendered scikit-learn.org.\n",
       "     See: https://github.com/scikit-learn/scikit-learn/issues/21755 */\n",
       "  display: inline-block !important;\n",
       "  position: relative;\n",
       "}\n",
       "\n",
       "#sk-container-id-2 div.sk-text-repr-fallback {\n",
       "  display: none;\n",
       "}\n",
       "\n",
       "div.sk-parallel-item,\n",
       "div.sk-serial,\n",
       "div.sk-item {\n",
       "  /* draw centered vertical line to link estimators */\n",
       "  background-image: linear-gradient(var(--sklearn-color-text-on-default-background), var(--sklearn-color-text-on-default-background));\n",
       "  background-size: 2px 100%;\n",
       "  background-repeat: no-repeat;\n",
       "  background-position: center center;\n",
       "}\n",
       "\n",
       "/* Parallel-specific style estimator block */\n",
       "\n",
       "#sk-container-id-2 div.sk-parallel-item::after {\n",
       "  content: \"\";\n",
       "  width: 100%;\n",
       "  border-bottom: 2px solid var(--sklearn-color-text-on-default-background);\n",
       "  flex-grow: 1;\n",
       "}\n",
       "\n",
       "#sk-container-id-2 div.sk-parallel {\n",
       "  display: flex;\n",
       "  align-items: stretch;\n",
       "  justify-content: center;\n",
       "  background-color: var(--sklearn-color-background);\n",
       "  position: relative;\n",
       "}\n",
       "\n",
       "#sk-container-id-2 div.sk-parallel-item {\n",
       "  display: flex;\n",
       "  flex-direction: column;\n",
       "}\n",
       "\n",
       "#sk-container-id-2 div.sk-parallel-item:first-child::after {\n",
       "  align-self: flex-end;\n",
       "  width: 50%;\n",
       "}\n",
       "\n",
       "#sk-container-id-2 div.sk-parallel-item:last-child::after {\n",
       "  align-self: flex-start;\n",
       "  width: 50%;\n",
       "}\n",
       "\n",
       "#sk-container-id-2 div.sk-parallel-item:only-child::after {\n",
       "  width: 0;\n",
       "}\n",
       "\n",
       "/* Serial-specific style estimator block */\n",
       "\n",
       "#sk-container-id-2 div.sk-serial {\n",
       "  display: flex;\n",
       "  flex-direction: column;\n",
       "  align-items: center;\n",
       "  background-color: var(--sklearn-color-background);\n",
       "  padding-right: 1em;\n",
       "  padding-left: 1em;\n",
       "}\n",
       "\n",
       "\n",
       "/* Toggleable style: style used for estimator/Pipeline/ColumnTransformer box that is\n",
       "clickable and can be expanded/collapsed.\n",
       "- Pipeline and ColumnTransformer use this feature and define the default style\n",
       "- Estimators will overwrite some part of the style using the `sk-estimator` class\n",
       "*/\n",
       "\n",
       "/* Pipeline and ColumnTransformer style (default) */\n",
       "\n",
       "#sk-container-id-2 div.sk-toggleable {\n",
       "  /* Default theme specific background. It is overwritten whether we have a\n",
       "  specific estimator or a Pipeline/ColumnTransformer */\n",
       "  background-color: var(--sklearn-color-background);\n",
       "}\n",
       "\n",
       "/* Toggleable label */\n",
       "#sk-container-id-2 label.sk-toggleable__label {\n",
       "  cursor: pointer;\n",
       "  display: block;\n",
       "  width: 100%;\n",
       "  margin-bottom: 0;\n",
       "  padding: 0.5em;\n",
       "  box-sizing: border-box;\n",
       "  text-align: center;\n",
       "}\n",
       "\n",
       "#sk-container-id-2 label.sk-toggleable__label-arrow:before {\n",
       "  /* Arrow on the left of the label */\n",
       "  content: \"▸\";\n",
       "  float: left;\n",
       "  margin-right: 0.25em;\n",
       "  color: var(--sklearn-color-icon);\n",
       "}\n",
       "\n",
       "#sk-container-id-2 label.sk-toggleable__label-arrow:hover:before {\n",
       "  color: var(--sklearn-color-text);\n",
       "}\n",
       "\n",
       "/* Toggleable content - dropdown */\n",
       "\n",
       "#sk-container-id-2 div.sk-toggleable__content {\n",
       "  max-height: 0;\n",
       "  max-width: 0;\n",
       "  overflow: hidden;\n",
       "  text-align: left;\n",
       "  /* unfitted */\n",
       "  background-color: var(--sklearn-color-unfitted-level-0);\n",
       "}\n",
       "\n",
       "#sk-container-id-2 div.sk-toggleable__content.fitted {\n",
       "  /* fitted */\n",
       "  background-color: var(--sklearn-color-fitted-level-0);\n",
       "}\n",
       "\n",
       "#sk-container-id-2 div.sk-toggleable__content pre {\n",
       "  margin: 0.2em;\n",
       "  border-radius: 0.25em;\n",
       "  color: var(--sklearn-color-text);\n",
       "  /* unfitted */\n",
       "  background-color: var(--sklearn-color-unfitted-level-0);\n",
       "}\n",
       "\n",
       "#sk-container-id-2 div.sk-toggleable__content.fitted pre {\n",
       "  /* unfitted */\n",
       "  background-color: var(--sklearn-color-fitted-level-0);\n",
       "}\n",
       "\n",
       "#sk-container-id-2 input.sk-toggleable__control:checked~div.sk-toggleable__content {\n",
       "  /* Expand drop-down */\n",
       "  max-height: 200px;\n",
       "  max-width: 100%;\n",
       "  overflow: auto;\n",
       "}\n",
       "\n",
       "#sk-container-id-2 input.sk-toggleable__control:checked~label.sk-toggleable__label-arrow:before {\n",
       "  content: \"▾\";\n",
       "}\n",
       "\n",
       "/* Pipeline/ColumnTransformer-specific style */\n",
       "\n",
       "#sk-container-id-2 div.sk-label input.sk-toggleable__control:checked~label.sk-toggleable__label {\n",
       "  color: var(--sklearn-color-text);\n",
       "  background-color: var(--sklearn-color-unfitted-level-2);\n",
       "}\n",
       "\n",
       "#sk-container-id-2 div.sk-label.fitted input.sk-toggleable__control:checked~label.sk-toggleable__label {\n",
       "  background-color: var(--sklearn-color-fitted-level-2);\n",
       "}\n",
       "\n",
       "/* Estimator-specific style */\n",
       "\n",
       "/* Colorize estimator box */\n",
       "#sk-container-id-2 div.sk-estimator input.sk-toggleable__control:checked~label.sk-toggleable__label {\n",
       "  /* unfitted */\n",
       "  background-color: var(--sklearn-color-unfitted-level-2);\n",
       "}\n",
       "\n",
       "#sk-container-id-2 div.sk-estimator.fitted input.sk-toggleable__control:checked~label.sk-toggleable__label {\n",
       "  /* fitted */\n",
       "  background-color: var(--sklearn-color-fitted-level-2);\n",
       "}\n",
       "\n",
       "#sk-container-id-2 div.sk-label label.sk-toggleable__label,\n",
       "#sk-container-id-2 div.sk-label label {\n",
       "  /* The background is the default theme color */\n",
       "  color: var(--sklearn-color-text-on-default-background);\n",
       "}\n",
       "\n",
       "/* On hover, darken the color of the background */\n",
       "#sk-container-id-2 div.sk-label:hover label.sk-toggleable__label {\n",
       "  color: var(--sklearn-color-text);\n",
       "  background-color: var(--sklearn-color-unfitted-level-2);\n",
       "}\n",
       "\n",
       "/* Label box, darken color on hover, fitted */\n",
       "#sk-container-id-2 div.sk-label.fitted:hover label.sk-toggleable__label.fitted {\n",
       "  color: var(--sklearn-color-text);\n",
       "  background-color: var(--sklearn-color-fitted-level-2);\n",
       "}\n",
       "\n",
       "/* Estimator label */\n",
       "\n",
       "#sk-container-id-2 div.sk-label label {\n",
       "  font-family: monospace;\n",
       "  font-weight: bold;\n",
       "  display: inline-block;\n",
       "  line-height: 1.2em;\n",
       "}\n",
       "\n",
       "#sk-container-id-2 div.sk-label-container {\n",
       "  text-align: center;\n",
       "}\n",
       "\n",
       "/* Estimator-specific */\n",
       "#sk-container-id-2 div.sk-estimator {\n",
       "  font-family: monospace;\n",
       "  border: 1px dotted var(--sklearn-color-border-box);\n",
       "  border-radius: 0.25em;\n",
       "  box-sizing: border-box;\n",
       "  margin-bottom: 0.5em;\n",
       "  /* unfitted */\n",
       "  background-color: var(--sklearn-color-unfitted-level-0);\n",
       "}\n",
       "\n",
       "#sk-container-id-2 div.sk-estimator.fitted {\n",
       "  /* fitted */\n",
       "  background-color: var(--sklearn-color-fitted-level-0);\n",
       "}\n",
       "\n",
       "/* on hover */\n",
       "#sk-container-id-2 div.sk-estimator:hover {\n",
       "  /* unfitted */\n",
       "  background-color: var(--sklearn-color-unfitted-level-2);\n",
       "}\n",
       "\n",
       "#sk-container-id-2 div.sk-estimator.fitted:hover {\n",
       "  /* fitted */\n",
       "  background-color: var(--sklearn-color-fitted-level-2);\n",
       "}\n",
       "\n",
       "/* Specification for estimator info (e.g. \"i\" and \"?\") */\n",
       "\n",
       "/* Common style for \"i\" and \"?\" */\n",
       "\n",
       ".sk-estimator-doc-link,\n",
       "a:link.sk-estimator-doc-link,\n",
       "a:visited.sk-estimator-doc-link {\n",
       "  float: right;\n",
       "  font-size: smaller;\n",
       "  line-height: 1em;\n",
       "  font-family: monospace;\n",
       "  background-color: var(--sklearn-color-background);\n",
       "  border-radius: 1em;\n",
       "  height: 1em;\n",
       "  width: 1em;\n",
       "  text-decoration: none !important;\n",
       "  margin-left: 1ex;\n",
       "  /* unfitted */\n",
       "  border: var(--sklearn-color-unfitted-level-1) 1pt solid;\n",
       "  color: var(--sklearn-color-unfitted-level-1);\n",
       "}\n",
       "\n",
       ".sk-estimator-doc-link.fitted,\n",
       "a:link.sk-estimator-doc-link.fitted,\n",
       "a:visited.sk-estimator-doc-link.fitted {\n",
       "  /* fitted */\n",
       "  border: var(--sklearn-color-fitted-level-1) 1pt solid;\n",
       "  color: var(--sklearn-color-fitted-level-1);\n",
       "}\n",
       "\n",
       "/* On hover */\n",
       "div.sk-estimator:hover .sk-estimator-doc-link:hover,\n",
       ".sk-estimator-doc-link:hover,\n",
       "div.sk-label-container:hover .sk-estimator-doc-link:hover,\n",
       ".sk-estimator-doc-link:hover {\n",
       "  /* unfitted */\n",
       "  background-color: var(--sklearn-color-unfitted-level-3);\n",
       "  color: var(--sklearn-color-background);\n",
       "  text-decoration: none;\n",
       "}\n",
       "\n",
       "div.sk-estimator.fitted:hover .sk-estimator-doc-link.fitted:hover,\n",
       ".sk-estimator-doc-link.fitted:hover,\n",
       "div.sk-label-container:hover .sk-estimator-doc-link.fitted:hover,\n",
       ".sk-estimator-doc-link.fitted:hover {\n",
       "  /* fitted */\n",
       "  background-color: var(--sklearn-color-fitted-level-3);\n",
       "  color: var(--sklearn-color-background);\n",
       "  text-decoration: none;\n",
       "}\n",
       "\n",
       "/* Span, style for the box shown on hovering the info icon */\n",
       ".sk-estimator-doc-link span {\n",
       "  display: none;\n",
       "  z-index: 9999;\n",
       "  position: relative;\n",
       "  font-weight: normal;\n",
       "  right: .2ex;\n",
       "  padding: .5ex;\n",
       "  margin: .5ex;\n",
       "  width: min-content;\n",
       "  min-width: 20ex;\n",
       "  max-width: 50ex;\n",
       "  color: var(--sklearn-color-text);\n",
       "  box-shadow: 2pt 2pt 4pt #999;\n",
       "  /* unfitted */\n",
       "  background: var(--sklearn-color-unfitted-level-0);\n",
       "  border: .5pt solid var(--sklearn-color-unfitted-level-3);\n",
       "}\n",
       "\n",
       ".sk-estimator-doc-link.fitted span {\n",
       "  /* fitted */\n",
       "  background: var(--sklearn-color-fitted-level-0);\n",
       "  border: var(--sklearn-color-fitted-level-3);\n",
       "}\n",
       "\n",
       ".sk-estimator-doc-link:hover span {\n",
       "  display: block;\n",
       "}\n",
       "\n",
       "/* \"?\"-specific style due to the `<a>` HTML tag */\n",
       "\n",
       "#sk-container-id-2 a.estimator_doc_link {\n",
       "  float: right;\n",
       "  font-size: 1rem;\n",
       "  line-height: 1em;\n",
       "  font-family: monospace;\n",
       "  background-color: var(--sklearn-color-background);\n",
       "  border-radius: 1rem;\n",
       "  height: 1rem;\n",
       "  width: 1rem;\n",
       "  text-decoration: none;\n",
       "  /* unfitted */\n",
       "  color: var(--sklearn-color-unfitted-level-1);\n",
       "  border: var(--sklearn-color-unfitted-level-1) 1pt solid;\n",
       "}\n",
       "\n",
       "#sk-container-id-2 a.estimator_doc_link.fitted {\n",
       "  /* fitted */\n",
       "  border: var(--sklearn-color-fitted-level-1) 1pt solid;\n",
       "  color: var(--sklearn-color-fitted-level-1);\n",
       "}\n",
       "\n",
       "/* On hover */\n",
       "#sk-container-id-2 a.estimator_doc_link:hover {\n",
       "  /* unfitted */\n",
       "  background-color: var(--sklearn-color-unfitted-level-3);\n",
       "  color: var(--sklearn-color-background);\n",
       "  text-decoration: none;\n",
       "}\n",
       "\n",
       "#sk-container-id-2 a.estimator_doc_link.fitted:hover {\n",
       "  /* fitted */\n",
       "  background-color: var(--sklearn-color-fitted-level-3);\n",
       "}\n",
       "</style><div id=\"sk-container-id-2\" class=\"sk-top-container\"><div class=\"sk-text-repr-fallback\"><pre>LinearRegression()</pre><b>In a Jupyter environment, please rerun this cell to show the HTML representation or trust the notebook. <br />On GitHub, the HTML representation is unable to render, please try loading this page with nbviewer.org.</b></div><div class=\"sk-container\" hidden><div class=\"sk-item\"><div class=\"sk-estimator fitted sk-toggleable\"><input class=\"sk-toggleable__control sk-hidden--visually\" id=\"sk-estimator-id-2\" type=\"checkbox\" checked><label for=\"sk-estimator-id-2\" class=\"sk-toggleable__label fitted sk-toggleable__label-arrow fitted\">&nbsp;&nbsp;LinearRegression<a class=\"sk-estimator-doc-link fitted\" rel=\"noreferrer\" target=\"_blank\" href=\"https://scikit-learn.org/1.5/modules/generated/sklearn.linear_model.LinearRegression.html\">?<span>Documentation for LinearRegression</span></a><span class=\"sk-estimator-doc-link fitted\">i<span>Fitted</span></span></label><div class=\"sk-toggleable__content fitted\"><pre>LinearRegression()</pre></div> </div></div></div></div>"
      ]
     },
     "execution_count": 65,
     "metadata": {},
     "output_type": "execute_result"
    }
   ],
   "execution_count": 65
  },
  {
   "metadata": {
    "ExecuteTime": {
     "end_time": "2025-02-16T22:06:50.411128Z",
     "start_time": "2025-02-16T22:06:27.552213Z"
    }
   },
   "cell_type": "code",
   "source": [
    "start = dt.datetime.now()\n",
    "clf = lgb.train(lgb_param, dtrain, 200)\n",
    "end = dt.datetime.now()\n",
    "elapsed = end - start"
   ],
   "id": "43b46306e285c60e",
   "outputs": [
    {
     "name": "stdout",
     "output_type": "stream",
     "text": [
      "[LightGBM] [Warning] Accuracy may be bad since you didn't explicitly set num_leaves OR 2^max_depth > num_leaves. (num_leaves=31).\n",
      "[LightGBM] [Warning] Accuracy may be bad since you didn't explicitly set num_leaves OR 2^max_depth > num_leaves. (num_leaves=31).\n",
      "[LightGBM] [Warning] Auto-choosing row-wise multi-threading, the overhead of testing was 0.068626 seconds.\n",
      "You can set `force_row_wise=true` to remove the overhead.\n",
      "And if memory is not enough, you can set `force_col_wise=true`.\n",
      "[LightGBM] [Info] Total Bins 346\n",
      "[LightGBM] [Info] Number of data points in the train set: 2630802, number of used features: 9\n",
      "[LightGBM] [Info] Start training from score 81.478594\n"
     ]
    }
   ],
   "execution_count": 66
  },
  {
   "metadata": {
    "ExecuteTime": {
     "end_time": "2025-02-16T22:06:50.423150Z",
     "start_time": "2025-02-16T22:06:50.414142Z"
    }
   },
   "cell_type": "code",
   "source": "print(elapsed)",
   "id": "ef1228ed190fe1ff",
   "outputs": [
    {
     "name": "stdout",
     "output_type": "stream",
     "text": [
      "0:00:22.846999\n"
     ]
    }
   ],
   "execution_count": 67
  },
  {
   "metadata": {
    "ExecuteTime": {
     "end_time": "2025-02-16T22:06:50.526832Z",
     "start_time": "2025-02-16T22:06:50.430685Z"
    }
   },
   "cell_type": "code",
   "source": [
    "model = XGBRegressor(\n",
    "    # max_depth=5,\n",
    "    colsample_bytree=0.5,\n",
    "    subsample=0.80,\n",
    "    n_estimators=200,\n",
    "    learning_rate=0.1,\n",
    "    min_child_weight=80,\n",
    "    # enable_categorical=True,\n",
    "    early_stopping_rounds=600\n",
    ")"
   ],
   "id": "f521fb040c9ec54c",
   "outputs": [],
   "execution_count": 68
  },
  {
   "metadata": {
    "ExecuteTime": {
     "end_time": "2025-02-16T22:08:08.139847Z",
     "start_time": "2025-02-16T22:06:50.529848Z"
    }
   },
   "cell_type": "code",
   "source": [
    "start = dt.datetime.now()\n",
    "model.fit(X_train, y_train, \n",
    "         eval_set=[(X_test, y_test)], \n",
    "         verbose=True\n",
    "    )\n",
    "end = dt.datetime.now()\n",
    "elapsed2 = end - start\n",
    "print(elapsed2)"
   ],
   "id": "3924f77dbef5ff3b",
   "outputs": [
    {
     "name": "stdout",
     "output_type": "stream",
     "text": [
      "[0]\tvalidation_0-rmse:38.80835\n",
      "[1]\tvalidation_0-rmse:38.80651\n",
      "[2]\tvalidation_0-rmse:38.80447\n",
      "[3]\tvalidation_0-rmse:38.80286\n",
      "[4]\tvalidation_0-rmse:38.79925\n",
      "[5]\tvalidation_0-rmse:38.79606\n",
      "[6]\tvalidation_0-rmse:38.79546\n",
      "[7]\tvalidation_0-rmse:38.79472\n",
      "[8]\tvalidation_0-rmse:38.79240\n",
      "[9]\tvalidation_0-rmse:38.79210\n",
      "[10]\tvalidation_0-rmse:38.78972\n",
      "[11]\tvalidation_0-rmse:38.78924\n",
      "[12]\tvalidation_0-rmse:38.78879\n",
      "[13]\tvalidation_0-rmse:38.78844\n",
      "[14]\tvalidation_0-rmse:38.78792\n",
      "[15]\tvalidation_0-rmse:38.78638\n",
      "[16]\tvalidation_0-rmse:38.78622\n",
      "[17]\tvalidation_0-rmse:38.78568\n",
      "[18]\tvalidation_0-rmse:38.78414\n",
      "[19]\tvalidation_0-rmse:38.78380\n",
      "[20]\tvalidation_0-rmse:38.78234\n",
      "[21]\tvalidation_0-rmse:38.78210\n",
      "[22]\tvalidation_0-rmse:38.78085\n",
      "[23]\tvalidation_0-rmse:38.78070\n",
      "[24]\tvalidation_0-rmse:38.77962\n",
      "[25]\tvalidation_0-rmse:38.77946\n",
      "[26]\tvalidation_0-rmse:38.77887\n",
      "[27]\tvalidation_0-rmse:38.77873\n",
      "[28]\tvalidation_0-rmse:38.77863\n",
      "[29]\tvalidation_0-rmse:38.77764\n",
      "[30]\tvalidation_0-rmse:38.77698\n",
      "[31]\tvalidation_0-rmse:38.77665\n",
      "[32]\tvalidation_0-rmse:38.77617\n",
      "[33]\tvalidation_0-rmse:38.77605\n",
      "[34]\tvalidation_0-rmse:38.77598\n",
      "[35]\tvalidation_0-rmse:38.77595\n",
      "[36]\tvalidation_0-rmse:38.77557\n",
      "[37]\tvalidation_0-rmse:38.77519\n",
      "[38]\tvalidation_0-rmse:38.77515\n",
      "[39]\tvalidation_0-rmse:38.77509\n",
      "[40]\tvalidation_0-rmse:38.77505\n",
      "[41]\tvalidation_0-rmse:38.77496\n",
      "[42]\tvalidation_0-rmse:38.77493\n",
      "[43]\tvalidation_0-rmse:38.77486\n",
      "[44]\tvalidation_0-rmse:38.77490\n",
      "[45]\tvalidation_0-rmse:38.77464\n",
      "[46]\tvalidation_0-rmse:38.77457\n",
      "[47]\tvalidation_0-rmse:38.77456\n",
      "[48]\tvalidation_0-rmse:38.77430\n",
      "[49]\tvalidation_0-rmse:38.77415\n",
      "[50]\tvalidation_0-rmse:38.77417\n",
      "[51]\tvalidation_0-rmse:38.77392\n",
      "[52]\tvalidation_0-rmse:38.77388\n",
      "[53]\tvalidation_0-rmse:38.77386\n",
      "[54]\tvalidation_0-rmse:38.77379\n",
      "[55]\tvalidation_0-rmse:38.77358\n",
      "[56]\tvalidation_0-rmse:38.77365\n",
      "[57]\tvalidation_0-rmse:38.77369\n",
      "[58]\tvalidation_0-rmse:38.77346\n",
      "[59]\tvalidation_0-rmse:38.77348\n",
      "[60]\tvalidation_0-rmse:38.77355\n",
      "[61]\tvalidation_0-rmse:38.77354\n",
      "[62]\tvalidation_0-rmse:38.77339\n",
      "[63]\tvalidation_0-rmse:38.77336\n",
      "[64]\tvalidation_0-rmse:38.77334\n",
      "[65]\tvalidation_0-rmse:38.77337\n",
      "[66]\tvalidation_0-rmse:38.77331\n",
      "[67]\tvalidation_0-rmse:38.77333\n",
      "[68]\tvalidation_0-rmse:38.77338\n",
      "[69]\tvalidation_0-rmse:38.77334\n",
      "[70]\tvalidation_0-rmse:38.77310\n",
      "[71]\tvalidation_0-rmse:38.77309\n",
      "[72]\tvalidation_0-rmse:38.77313\n",
      "[73]\tvalidation_0-rmse:38.77317\n",
      "[74]\tvalidation_0-rmse:38.77319\n",
      "[75]\tvalidation_0-rmse:38.77319\n",
      "[76]\tvalidation_0-rmse:38.77313\n",
      "[77]\tvalidation_0-rmse:38.77322\n",
      "[78]\tvalidation_0-rmse:38.77324\n",
      "[79]\tvalidation_0-rmse:38.77328\n",
      "[80]\tvalidation_0-rmse:38.77326\n",
      "[81]\tvalidation_0-rmse:38.77309\n",
      "[82]\tvalidation_0-rmse:38.77313\n",
      "[83]\tvalidation_0-rmse:38.77320\n",
      "[84]\tvalidation_0-rmse:38.77306\n",
      "[85]\tvalidation_0-rmse:38.77302\n",
      "[86]\tvalidation_0-rmse:38.77303\n",
      "[87]\tvalidation_0-rmse:38.77270\n",
      "[88]\tvalidation_0-rmse:38.77275\n",
      "[89]\tvalidation_0-rmse:38.77281\n",
      "[90]\tvalidation_0-rmse:38.77255\n",
      "[91]\tvalidation_0-rmse:38.77258\n",
      "[92]\tvalidation_0-rmse:38.77261\n",
      "[93]\tvalidation_0-rmse:38.77252\n",
      "[94]\tvalidation_0-rmse:38.77252\n",
      "[95]\tvalidation_0-rmse:38.77254\n",
      "[96]\tvalidation_0-rmse:38.77242\n",
      "[97]\tvalidation_0-rmse:38.77227\n",
      "[98]\tvalidation_0-rmse:38.77221\n",
      "[99]\tvalidation_0-rmse:38.77224\n",
      "[100]\tvalidation_0-rmse:38.77225\n",
      "[101]\tvalidation_0-rmse:38.77226\n",
      "[102]\tvalidation_0-rmse:38.77227\n",
      "[103]\tvalidation_0-rmse:38.77231\n",
      "[104]\tvalidation_0-rmse:38.77220\n",
      "[105]\tvalidation_0-rmse:38.77223\n",
      "[106]\tvalidation_0-rmse:38.77225\n",
      "[107]\tvalidation_0-rmse:38.77223\n",
      "[108]\tvalidation_0-rmse:38.77211\n",
      "[109]\tvalidation_0-rmse:38.77209\n",
      "[110]\tvalidation_0-rmse:38.77210\n",
      "[111]\tvalidation_0-rmse:38.77214\n",
      "[112]\tvalidation_0-rmse:38.77214\n",
      "[113]\tvalidation_0-rmse:38.77224\n",
      "[114]\tvalidation_0-rmse:38.77220\n",
      "[115]\tvalidation_0-rmse:38.77216\n",
      "[116]\tvalidation_0-rmse:38.77219\n",
      "[117]\tvalidation_0-rmse:38.77216\n",
      "[118]\tvalidation_0-rmse:38.77209\n",
      "[119]\tvalidation_0-rmse:38.77202\n",
      "[120]\tvalidation_0-rmse:38.77201\n",
      "[121]\tvalidation_0-rmse:38.77194\n",
      "[122]\tvalidation_0-rmse:38.77195\n",
      "[123]\tvalidation_0-rmse:38.77198\n",
      "[124]\tvalidation_0-rmse:38.77196\n",
      "[125]\tvalidation_0-rmse:38.77201\n",
      "[126]\tvalidation_0-rmse:38.77205\n",
      "[127]\tvalidation_0-rmse:38.77212\n",
      "[128]\tvalidation_0-rmse:38.77213\n",
      "[129]\tvalidation_0-rmse:38.77214\n",
      "[130]\tvalidation_0-rmse:38.77222\n",
      "[131]\tvalidation_0-rmse:38.77213\n",
      "[132]\tvalidation_0-rmse:38.77216\n",
      "[133]\tvalidation_0-rmse:38.77219\n",
      "[134]\tvalidation_0-rmse:38.77219\n",
      "[135]\tvalidation_0-rmse:38.77219\n",
      "[136]\tvalidation_0-rmse:38.77209\n",
      "[137]\tvalidation_0-rmse:38.77214\n",
      "[138]\tvalidation_0-rmse:38.77216\n",
      "[139]\tvalidation_0-rmse:38.77209\n",
      "[140]\tvalidation_0-rmse:38.77211\n",
      "[141]\tvalidation_0-rmse:38.77201\n",
      "[142]\tvalidation_0-rmse:38.77192\n",
      "[143]\tvalidation_0-rmse:38.77195\n",
      "[144]\tvalidation_0-rmse:38.77190\n",
      "[145]\tvalidation_0-rmse:38.77194\n",
      "[146]\tvalidation_0-rmse:38.77193\n",
      "[147]\tvalidation_0-rmse:38.77191\n",
      "[148]\tvalidation_0-rmse:38.77197\n",
      "[149]\tvalidation_0-rmse:38.77197\n",
      "[150]\tvalidation_0-rmse:38.77198\n",
      "[151]\tvalidation_0-rmse:38.77206\n",
      "[152]\tvalidation_0-rmse:38.77209\n",
      "[153]\tvalidation_0-rmse:38.77216\n",
      "[154]\tvalidation_0-rmse:38.77220\n",
      "[155]\tvalidation_0-rmse:38.77221\n",
      "[156]\tvalidation_0-rmse:38.77222\n",
      "[157]\tvalidation_0-rmse:38.77229\n",
      "[158]\tvalidation_0-rmse:38.77229\n",
      "[159]\tvalidation_0-rmse:38.77228\n",
      "[160]\tvalidation_0-rmse:38.77228\n",
      "[161]\tvalidation_0-rmse:38.77221\n",
      "[162]\tvalidation_0-rmse:38.77230\n",
      "[163]\tvalidation_0-rmse:38.77233\n",
      "[164]\tvalidation_0-rmse:38.77226\n",
      "[165]\tvalidation_0-rmse:38.77228\n",
      "[166]\tvalidation_0-rmse:38.77237\n",
      "[167]\tvalidation_0-rmse:38.77240\n",
      "[168]\tvalidation_0-rmse:38.77236\n",
      "[169]\tvalidation_0-rmse:38.77235\n",
      "[170]\tvalidation_0-rmse:38.77237\n",
      "[171]\tvalidation_0-rmse:38.77232\n",
      "[172]\tvalidation_0-rmse:38.77233\n",
      "[173]\tvalidation_0-rmse:38.77236\n",
      "[174]\tvalidation_0-rmse:38.77238\n",
      "[175]\tvalidation_0-rmse:38.77242\n",
      "[176]\tvalidation_0-rmse:38.77236\n",
      "[177]\tvalidation_0-rmse:38.77231\n",
      "[178]\tvalidation_0-rmse:38.77232\n",
      "[179]\tvalidation_0-rmse:38.77233\n",
      "[180]\tvalidation_0-rmse:38.77233\n",
      "[181]\tvalidation_0-rmse:38.77234\n",
      "[182]\tvalidation_0-rmse:38.77238\n",
      "[183]\tvalidation_0-rmse:38.77247\n",
      "[184]\tvalidation_0-rmse:38.77248\n",
      "[185]\tvalidation_0-rmse:38.77253\n",
      "[186]\tvalidation_0-rmse:38.77260\n",
      "[187]\tvalidation_0-rmse:38.77258\n",
      "[188]\tvalidation_0-rmse:38.77260\n",
      "[189]\tvalidation_0-rmse:38.77258\n",
      "[190]\tvalidation_0-rmse:38.77265\n",
      "[191]\tvalidation_0-rmse:38.77267\n",
      "[192]\tvalidation_0-rmse:38.77272\n",
      "[193]\tvalidation_0-rmse:38.77266\n",
      "[194]\tvalidation_0-rmse:38.77267\n",
      "[195]\tvalidation_0-rmse:38.77274\n",
      "[196]\tvalidation_0-rmse:38.77282\n",
      "[197]\tvalidation_0-rmse:38.77288\n",
      "[198]\tvalidation_0-rmse:38.77287\n",
      "[199]\tvalidation_0-rmse:38.77281\n",
      "0:01:17.599989\n"
     ]
    }
   ],
   "execution_count": 69
  },
  {
   "metadata": {
    "ExecuteTime": {
     "end_time": "2025-02-16T22:11:46.215094Z",
     "start_time": "2025-02-16T22:11:42.967277Z"
    }
   },
   "cell_type": "code",
   "source": [
    "y_pred = lr.predict(X_test)\n",
    "y_pred2 = clf.predict(X_test) \n",
    "y_pred3 = model.predict(X_test)"
   ],
   "id": "c32968f219b46c93",
   "outputs": [],
   "execution_count": 70
  },
  {
   "metadata": {
    "ExecuteTime": {
     "end_time": "2025-02-16T22:11:46.292105Z",
     "start_time": "2025-02-16T22:11:46.219105Z"
    }
   },
   "cell_type": "code",
   "source": [
    "from sklearn.metrics import root_mean_squared_error\n",
    "\n",
    "rmse1 = root_mean_squared_error(y_test, y_pred)\n",
    "rmse2 = root_mean_squared_error(y_test, y_pred2)\n",
    "rmse3 = root_mean_squared_error(y_test, y_pred3)"
   ],
   "id": "3b975d44cf2f7f5b",
   "outputs": [],
   "execution_count": 71
  },
  {
   "metadata": {
    "ExecuteTime": {
     "end_time": "2025-02-16T22:11:46.305033Z",
     "start_time": "2025-02-16T22:11:46.295628Z"
    }
   },
   "cell_type": "code",
   "source": [
    "print('Root Mean Squared Error : ', rmse1)\n",
    "print('Root Mean Squared Error : ', rmse2)\n",
    "print('Root Mean Squared Error : ', rmse3)"
   ],
   "id": "4593f880cf525029",
   "outputs": [
    {
     "name": "stdout",
     "output_type": "stream",
     "text": [
      "Root Mean Squared Error :  38.79293996235504\n",
      "Root Mean Squared Error :  38.77080937028523\n",
      "Root Mean Squared Error :  38.77189941504162\n"
     ]
    }
   ],
   "execution_count": 72
  },
  {
   "metadata": {},
   "cell_type": "markdown",
   "source": "# Submission",
   "id": "68fd109d4cf08704"
  },
  {
   "metadata": {
    "ExecuteTime": {
     "end_time": "2025-02-16T22:12:50.234696Z",
     "start_time": "2025-02-16T22:12:49.650199Z"
    }
   },
   "cell_type": "code",
   "source": [
    "X_test_transformed = transformer.transform(imputed_test_backpack)\n",
    "scaled_test_data = data_scaling(X_test_transformed)"
   ],
   "id": "373cddb1bbad5a6",
   "outputs": [],
   "execution_count": 73
  },
  {
   "metadata": {
    "ExecuteTime": {
     "end_time": "2025-02-16T22:12:52.432863Z",
     "start_time": "2025-02-16T22:12:51.331861Z"
    }
   },
   "cell_type": "code",
   "source": [
    "sub_pred = clf.predict(scaled_test_data)\n",
    "sub2 = lr.predict(scaled_test_data)\n",
    "sub3 = model.predict(scaled_test_data)"
   ],
   "id": "7edb80df053fe950",
   "outputs": [],
   "execution_count": 74
  },
  {
   "metadata": {
    "ExecuteTime": {
     "end_time": "2025-02-16T22:13:07.546930Z",
     "start_time": "2025-02-16T22:13:07.535604Z"
    }
   },
   "cell_type": "code",
   "source": "nn=np.round(sub_pred, decimals=2)",
   "id": "4ffa0f05d30601d6",
   "outputs": [],
   "execution_count": 75
  },
  {
   "metadata": {
    "ExecuteTime": {
     "end_time": "2025-02-16T22:13:11.461746Z",
     "start_time": "2025-02-16T22:13:10.610128Z"
    }
   },
   "cell_type": "code",
   "source": [
    "sub = pd.read_csv('./data/sample_submission.csv')\n",
    "sub['Price'] = nn\n",
    "sub.to_csv('submission28.csv', index=False)"
   ],
   "id": "f598c500e216e4b9",
   "outputs": [],
   "execution_count": 76
  },
  {
   "metadata": {
    "ExecuteTime": {
     "end_time": "2025-02-16T21:58:32.866666Z",
     "start_time": "2025-02-16T21:58:32.803700Z"
    }
   },
   "cell_type": "code",
   "source": "np.random.permutation(len(X_test))",
   "id": "3c2a7cf24ef1dcf2",
   "outputs": [
    {
     "data": {
      "text/plain": [
       "array([329138,  43565, 567365, ..., 221093, 366230,  20801])"
      ]
     },
     "execution_count": 50,
     "metadata": {},
     "output_type": "execute_result"
    }
   ],
   "execution_count": 50
  }
 ],
 "metadata": {
  "kernelspec": {
   "display_name": "Python 3",
   "language": "python",
   "name": "python3"
  },
  "language_info": {
   "codemirror_mode": {
    "name": "ipython",
    "version": 2
   },
   "file_extension": ".py",
   "mimetype": "text/x-python",
   "name": "python",
   "nbconvert_exporter": "python",
   "pygments_lexer": "ipython2",
   "version": "2.7.6"
  }
 },
 "nbformat": 4,
 "nbformat_minor": 5
}
